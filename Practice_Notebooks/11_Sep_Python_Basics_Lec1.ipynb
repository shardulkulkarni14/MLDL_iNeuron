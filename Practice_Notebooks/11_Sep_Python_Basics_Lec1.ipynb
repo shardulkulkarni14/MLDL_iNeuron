{
 "cells": [
  {
   "cell_type": "code",
   "execution_count": 1,
   "id": "e617e69c",
   "metadata": {},
   "outputs": [],
   "source": [
    "a = 10"
   ]
  },
  {
   "cell_type": "code",
   "execution_count": 2,
   "id": "aca39401",
   "metadata": {},
   "outputs": [
    {
     "data": {
      "text/plain": [
       "10"
      ]
     },
     "execution_count": 2,
     "metadata": {},
     "output_type": "execute_result"
    }
   ],
   "source": [
    "a"
   ]
  },
  {
   "cell_type": "code",
   "execution_count": 3,
   "id": "f6f3ecf9",
   "metadata": {},
   "outputs": [],
   "source": [
    "a = 20"
   ]
  },
  {
   "cell_type": "code",
   "execution_count": 4,
   "id": "2b61ba5a",
   "metadata": {},
   "outputs": [
    {
     "data": {
      "text/plain": [
       "20"
      ]
     },
     "execution_count": 4,
     "metadata": {},
     "output_type": "execute_result"
    }
   ],
   "source": [
    "a"
   ]
  },
  {
   "cell_type": "code",
   "execution_count": 5,
   "id": "3e96c650",
   "metadata": {},
   "outputs": [
    {
     "data": {
      "text/plain": [
       "int"
      ]
     },
     "execution_count": 5,
     "metadata": {},
     "output_type": "execute_result"
    }
   ],
   "source": [
    "type(a)"
   ]
  },
  {
   "cell_type": "code",
   "execution_count": 6,
   "id": "9cf90015",
   "metadata": {},
   "outputs": [],
   "source": [
    " b = \"shardul\""
   ]
  },
  {
   "cell_type": "code",
   "execution_count": 7,
   "id": "a4c7bf0f",
   "metadata": {},
   "outputs": [
    {
     "data": {
      "text/plain": [
       "str"
      ]
     },
     "execution_count": 7,
     "metadata": {},
     "output_type": "execute_result"
    }
   ],
   "source": [
    "type(b)"
   ]
  },
  {
   "cell_type": "code",
   "execution_count": 8,
   "id": "3b47aedc",
   "metadata": {},
   "outputs": [
    {
     "data": {
      "text/plain": [
       "30"
      ]
     },
     "execution_count": 8,
     "metadata": {},
     "output_type": "execute_result"
    }
   ],
   "source": [
    "a = 10\n",
    "b =20\n",
    "a+b"
   ]
  },
  {
   "cell_type": "code",
   "execution_count": 9,
   "id": "514b0041",
   "metadata": {},
   "outputs": [
    {
     "data": {
      "text/plain": [
       "200"
      ]
     },
     "execution_count": 9,
     "metadata": {},
     "output_type": "execute_result"
    }
   ],
   "source": [
    "a*b"
   ]
  },
  {
   "cell_type": "code",
   "execution_count": 10,
   "id": "19e4fc57",
   "metadata": {},
   "outputs": [],
   "source": [
    "f = 45.67"
   ]
  },
  {
   "cell_type": "code",
   "execution_count": 11,
   "id": "3dce787c",
   "metadata": {},
   "outputs": [
    {
     "data": {
      "text/plain": [
       "float"
      ]
     },
     "execution_count": 11,
     "metadata": {},
     "output_type": "execute_result"
    }
   ],
   "source": [
    "type(f)"
   ]
  },
  {
   "cell_type": "code",
   "execution_count": 13,
   "id": "816309bc",
   "metadata": {},
   "outputs": [],
   "source": [
    "c = 4+6j"
   ]
  },
  {
   "cell_type": "code",
   "execution_count": 14,
   "id": "04007a28",
   "metadata": {},
   "outputs": [
    {
     "data": {
      "text/plain": [
       "4.0"
      ]
     },
     "execution_count": 14,
     "metadata": {},
     "output_type": "execute_result"
    }
   ],
   "source": [
    "c.real"
   ]
  },
  {
   "cell_type": "code",
   "execution_count": 15,
   "id": "1ff95874",
   "metadata": {},
   "outputs": [
    {
     "data": {
      "text/plain": [
       "6.0"
      ]
     },
     "execution_count": 15,
     "metadata": {},
     "output_type": "execute_result"
    }
   ],
   "source": [
    "c.imag"
   ]
  },
  {
   "cell_type": "code",
   "execution_count": 16,
   "id": "277767c8",
   "metadata": {},
   "outputs": [
    {
     "data": {
      "text/plain": [
       "<function complex.conjugate>"
      ]
     },
     "execution_count": 16,
     "metadata": {},
     "output_type": "execute_result"
    }
   ],
   "source": [
    "c.conjugate"
   ]
  },
  {
   "cell_type": "code",
   "execution_count": 18,
   "id": "96ddf64f",
   "metadata": {},
   "outputs": [
    {
     "data": {
      "text/plain": [
       "'1shar'"
      ]
     },
     "execution_count": 18,
     "metadata": {},
     "output_type": "execute_result"
    }
   ],
   "source": [
    "\"1\" + \"shar\""
   ]
  },
  {
   "cell_type": "code",
   "execution_count": 20,
   "id": "c4446dad",
   "metadata": {},
   "outputs": [
    {
     "data": {
      "text/plain": [
       "'1shar'"
      ]
     },
     "execution_count": 20,
     "metadata": {},
     "output_type": "execute_result"
    }
   ],
   "source": [
    "str(1)+\"shar\"  #Strong Typecasting"
   ]
  },
  {
   "cell_type": "code",
   "execution_count": 21,
   "id": "8c199ffa",
   "metadata": {},
   "outputs": [],
   "source": [
    "s = \"shardul Kulkarni\""
   ]
  },
  {
   "cell_type": "code",
   "execution_count": 22,
   "id": "44664e88",
   "metadata": {},
   "outputs": [
    {
     "data": {
      "text/plain": [
       "'s'"
      ]
     },
     "execution_count": 22,
     "metadata": {},
     "output_type": "execute_result"
    }
   ],
   "source": [
    "s[0]"
   ]
  },
  {
   "cell_type": "code",
   "execution_count": 37,
   "id": "42eff44e",
   "metadata": {},
   "outputs": [
    {
     "data": {
      "text/plain": [
       "'n'"
      ]
     },
     "execution_count": 37,
     "metadata": {},
     "output_type": "execute_result"
    }
   ],
   "source": [
    "s[-2]"
   ]
  },
  {
   "cell_type": "code",
   "execution_count": 38,
   "id": "b30d7dac",
   "metadata": {},
   "outputs": [
    {
     "data": {
      "text/plain": [
       "' '"
      ]
     },
     "execution_count": 38,
     "metadata": {},
     "output_type": "execute_result"
    }
   ],
   "source": [
    "s[-9]"
   ]
  },
  {
   "cell_type": "code",
   "execution_count": 40,
   "id": "3277a329",
   "metadata": {},
   "outputs": [
    {
     "data": {
      "text/plain": [
       "'shar'"
      ]
     },
     "execution_count": 40,
     "metadata": {},
     "output_type": "execute_result"
    }
   ],
   "source": [
    "#Range of character\n",
    "s[0:4]  #s[a:b], where a is inclusive and b is exclusive"
   ]
  },
  {
   "cell_type": "code",
   "execution_count": 41,
   "id": "d6ed1927",
   "metadata": {},
   "outputs": [
    {
     "data": {
      "text/plain": [
       "'dul Kulkarni'"
      ]
     },
     "execution_count": 41,
     "metadata": {},
     "output_type": "execute_result"
    }
   ],
   "source": [
    "s[4:90] #start from 4th index and goes till last element"
   ]
  },
  {
   "cell_type": "code",
   "execution_count": 45,
   "id": "a46cd0a4",
   "metadata": {},
   "outputs": [
    {
     "data": {
      "text/plain": [
       "'sadlKl'"
      ]
     },
     "execution_count": 45,
     "metadata": {},
     "output_type": "execute_result"
    }
   ],
   "source": [
    "# start from 0 go till end but we need only alternate data\n",
    "s[0:11:2]  #s[a:b:c] where a =starting index, b = ending index, c= jump"
   ]
  },
  {
   "cell_type": "code",
   "execution_count": 46,
   "id": "e1d83112",
   "metadata": {},
   "outputs": [
    {
     "data": {
      "text/plain": [
       "'sadlKlan'"
      ]
     },
     "execution_count": 46,
     "metadata": {},
     "output_type": "execute_result"
    }
   ],
   "source": [
    "s[::2]"
   ]
  },
  {
   "cell_type": "code",
   "execution_count": 47,
   "id": "fc622e90",
   "metadata": {},
   "outputs": [
    {
     "data": {
      "text/plain": [
       "'sadlKlan'"
      ]
     },
     "execution_count": 47,
     "metadata": {},
     "output_type": "execute_result"
    }
   ],
   "source": [
    "s[0::2]"
   ]
  },
  {
   "cell_type": "code",
   "execution_count": 57,
   "id": "b8bbf132",
   "metadata": {},
   "outputs": [
    {
     "data": {
      "text/plain": [
       "'s'"
      ]
     },
     "execution_count": 57,
     "metadata": {},
     "output_type": "execute_result"
    }
   ],
   "source": [
    "s[0::-1]  #starting from 0 but the endpoint is not mentioned, so it will consider -1 as end, then it will print the data and jump in the negative direction then we are not hqaving any other data"
   ]
  },
  {
   "cell_type": "code",
   "execution_count": 58,
   "id": "e1212d12",
   "metadata": {},
   "outputs": [
    {
     "data": {
      "text/plain": [
       "'inrakluK ludrahs'"
      ]
     },
     "execution_count": 58,
     "metadata": {},
     "output_type": "execute_result"
    }
   ],
   "source": [
    "s[::-1] #starting and ending pt is not mentioned therefore it starts in the direction of the jump given"
   ]
  },
  {
   "cell_type": "code",
   "execution_count": 59,
   "id": "7c3b6649",
   "metadata": {},
   "outputs": [
    {
     "data": {
      "text/plain": [
       "''"
      ]
     },
     "execution_count": 59,
     "metadata": {},
     "output_type": "execute_result"
    }
   ],
   "source": [
    "s[0:5:-1]  #started from 0 and ending towards positive pt but jmp is in negative direction. Therefore no element"
   ]
  },
  {
   "cell_type": "code",
   "execution_count": 60,
   "id": "0f73df24",
   "metadata": {},
   "outputs": [
    {
     "data": {
      "text/plain": [
       "'drah'"
      ]
     },
     "execution_count": 60,
     "metadata": {},
     "output_type": "execute_result"
    }
   ],
   "source": [
    "s[4:0:-1]"
   ]
  },
  {
   "cell_type": "code",
   "execution_count": 61,
   "id": "6d3cdc0c",
   "metadata": {},
   "outputs": [
    {
     "data": {
      "text/plain": [
       "''"
      ]
     },
     "execution_count": 61,
     "metadata": {},
     "output_type": "execute_result"
    }
   ],
   "source": [
    "s[5:1:1]"
   ]
  },
  {
   "cell_type": "code",
   "execution_count": 66,
   "id": "55480d85",
   "metadata": {},
   "outputs": [
    {
     "data": {
      "text/plain": [
       "''"
      ]
     },
     "execution_count": 66,
     "metadata": {},
     "output_type": "execute_result"
    }
   ],
   "source": [
    "s[5:-1:-1]"
   ]
  },
  {
   "cell_type": "code",
   "execution_count": 67,
   "id": "194f838c",
   "metadata": {},
   "outputs": [
    {
     "data": {
      "text/plain": [
       "'inrakluK l'"
      ]
     },
     "execution_count": 67,
     "metadata": {},
     "output_type": "execute_result"
    }
   ],
   "source": [
    "s[-1:5:-1]"
   ]
  },
  {
   "cell_type": "code",
   "execution_count": 68,
   "id": "644903ca",
   "metadata": {},
   "outputs": [],
   "source": [
    "s = \"dfdfdffdfdf sujhasgdfhgsjh sgahsdfghg\""
   ]
  },
  {
   "cell_type": "code",
   "execution_count": 69,
   "id": "35f4b818",
   "metadata": {},
   "outputs": [
    {
     "data": {
      "text/plain": [
       "37"
      ]
     },
     "execution_count": 69,
     "metadata": {},
     "output_type": "execute_result"
    }
   ],
   "source": [
    "len(s)"
   ]
  },
  {
   "cell_type": "code",
   "execution_count": 70,
   "id": "f406207a",
   "metadata": {},
   "outputs": [
    {
     "data": {
      "text/plain": [
       "'sudh sudh'"
      ]
     },
     "execution_count": 70,
     "metadata": {},
     "output_type": "execute_result"
    }
   ],
   "source": [
    "\"sudh\"+\" sudh\""
   ]
  },
  {
   "cell_type": "code",
   "execution_count": 72,
   "id": "040f8ec2",
   "metadata": {},
   "outputs": [
    {
     "data": {
      "text/plain": [
       "'sudh sudh sudh sudh sudh sudh sudh sudh sudh sudh '"
      ]
     },
     "execution_count": 72,
     "metadata": {},
     "output_type": "execute_result"
    }
   ],
   "source": [
    "\"sudh \"*10"
   ]
  },
  {
   "cell_type": "code",
   "execution_count": 73,
   "id": "c36c9c38",
   "metadata": {},
   "outputs": [],
   "source": [
    "b = True"
   ]
  },
  {
   "cell_type": "code",
   "execution_count": 75,
   "id": "c742ca4e",
   "metadata": {},
   "outputs": [
    {
     "data": {
      "text/plain": [
       "bool"
      ]
     },
     "execution_count": 75,
     "metadata": {},
     "output_type": "execute_result"
    }
   ],
   "source": [
    "type(b)"
   ]
  },
  {
   "cell_type": "code",
   "execution_count": 76,
   "id": "33743298",
   "metadata": {},
   "outputs": [],
   "source": [
    "v = False"
   ]
  },
  {
   "cell_type": "code",
   "execution_count": 77,
   "id": "22bcb44d",
   "metadata": {},
   "outputs": [
    {
     "data": {
      "text/plain": [
       "bool"
      ]
     },
     "execution_count": 77,
     "metadata": {},
     "output_type": "execute_result"
    }
   ],
   "source": [
    "type(v)"
   ]
  },
  {
   "cell_type": "code",
   "execution_count": 78,
   "id": "50311e73",
   "metadata": {},
   "outputs": [
    {
     "data": {
      "text/plain": [
       "0"
      ]
     },
     "execution_count": 78,
     "metadata": {},
     "output_type": "execute_result"
    }
   ],
   "source": [
    "True - True"
   ]
  },
  {
   "cell_type": "code",
   "execution_count": 79,
   "id": "0bd88bb9",
   "metadata": {},
   "outputs": [
    {
     "data": {
      "text/plain": [
       "-1"
      ]
     },
     "execution_count": 79,
     "metadata": {},
     "output_type": "execute_result"
    }
   ],
   "source": [
    "False - True"
   ]
  },
  {
   "cell_type": "code",
   "execution_count": 80,
   "id": "17340e55",
   "metadata": {},
   "outputs": [
    {
     "ename": "ZeroDivisionError",
     "evalue": "division by zero",
     "output_type": "error",
     "traceback": [
      "\u001b[1;31m---------------------------------------------------------------------------\u001b[0m",
      "\u001b[1;31mZeroDivisionError\u001b[0m                         Traceback (most recent call last)",
      "\u001b[1;32m<ipython-input-80-f64d1295bbce>\u001b[0m in \u001b[0;36m<module>\u001b[1;34m\u001b[0m\n\u001b[1;32m----> 1\u001b[1;33m \u001b[1;32mTrue\u001b[0m\u001b[1;33m/\u001b[0m\u001b[1;32mFalse\u001b[0m\u001b[1;33m\u001b[0m\u001b[1;33m\u001b[0m\u001b[0m\n\u001b[0m",
      "\u001b[1;31mZeroDivisionError\u001b[0m: division by zero"
     ]
    }
   ],
   "source": [
    "True/False # but available in numpy where it gives inf which means infinity"
   ]
  },
  {
   "cell_type": "code",
   "execution_count": 82,
   "id": "dd5c7b3c",
   "metadata": {},
   "outputs": [
    {
     "name": "stderr",
     "output_type": "stream",
     "text": [
      "<ipython-input-82-0dc948cfa281>:2: RuntimeWarning: divide by zero encountered in true_divide\n",
      "  np.asanyarray([0,1])/0\n",
      "<ipython-input-82-0dc948cfa281>:2: RuntimeWarning: invalid value encountered in true_divide\n",
      "  np.asanyarray([0,1])/0\n"
     ]
    },
    {
     "data": {
      "text/plain": [
       "array([nan, inf])"
      ]
     },
     "execution_count": 82,
     "metadata": {},
     "output_type": "execute_result"
    }
   ],
   "source": [
    "import numpy as np\n",
    "np.asanyarray([0,1])/0"
   ]
  },
  {
   "cell_type": "code",
   "execution_count": 83,
   "id": "51bca1c1",
   "metadata": {},
   "outputs": [],
   "source": [
    "shar = [1,2,3,4,5]"
   ]
  },
  {
   "cell_type": "code",
   "execution_count": 91,
   "id": "14f88d4c",
   "metadata": {},
   "outputs": [],
   "source": [
    "l = [\"sudh\",\"abc\",2,4,5,6,7,8,9, 7+6j, [3,5,6,]]  #list( Heterogeneous collection of all data types under a single variable)"
   ]
  },
  {
   "cell_type": "code",
   "execution_count": 92,
   "id": "6c8a6f96",
   "metadata": {},
   "outputs": [
    {
     "data": {
      "text/plain": [
       "list"
      ]
     },
     "execution_count": 92,
     "metadata": {},
     "output_type": "execute_result"
    }
   ],
   "source": [
    "type(l)"
   ]
  },
  {
   "cell_type": "code",
   "execution_count": 93,
   "id": "532168fe",
   "metadata": {},
   "outputs": [
    {
     "data": {
      "text/plain": [
       "['sudh', 'abc', 2, 4, 5, 6, 7, 8, 9, (7+6j), [3, 5, 6]]"
      ]
     },
     "execution_count": 93,
     "metadata": {},
     "output_type": "execute_result"
    }
   ],
   "source": [
    "l"
   ]
  },
  {
   "cell_type": "code",
   "execution_count": 95,
   "id": "888d1e83",
   "metadata": {},
   "outputs": [
    {
     "data": {
      "text/plain": [
       "[3, 5, 6]"
      ]
     },
     "execution_count": 95,
     "metadata": {},
     "output_type": "execute_result"
    }
   ],
   "source": [
    "l[-1]"
   ]
  },
  {
   "cell_type": "code",
   "execution_count": 96,
   "id": "208baf91",
   "metadata": {},
   "outputs": [
    {
     "data": {
      "text/plain": [
       "[[3, 5, 6], (7+6j), 9, 8, 7, 6, 5, 4, 2, 'abc', 'sudh']"
      ]
     },
     "execution_count": 96,
     "metadata": {},
     "output_type": "execute_result"
    }
   ],
   "source": [
    "#reverse of list\n",
    "l[::-1]"
   ]
  },
  {
   "cell_type": "code",
   "execution_count": 97,
   "id": "95f2532c",
   "metadata": {},
   "outputs": [
    {
     "data": {
      "text/plain": [
       "'sudh'"
      ]
     },
     "execution_count": 97,
     "metadata": {},
     "output_type": "execute_result"
    }
   ],
   "source": [
    "l[0]"
   ]
  },
  {
   "cell_type": "code",
   "execution_count": 99,
   "id": "c8820d1c",
   "metadata": {},
   "outputs": [
    {
     "data": {
      "text/plain": [
       "'hdus'"
      ]
     },
     "execution_count": 99,
     "metadata": {},
     "output_type": "execute_result"
    }
   ],
   "source": [
    "#accessing 1st element of list and then reversing it bcz it is a string and python supports this operation for string\n",
    "l[0][::-1]"
   ]
  },
  {
   "cell_type": "code",
   "execution_count": 100,
   "id": "a83f3247",
   "metadata": {},
   "outputs": [
    {
     "data": {
      "text/plain": [
       "[6, 5, 3]"
      ]
     },
     "execution_count": 100,
     "metadata": {},
     "output_type": "execute_result"
    }
   ],
   "source": [
    "l[-1][::-1]"
   ]
  },
  {
   "cell_type": "code",
   "execution_count": 101,
   "id": "094fac11",
   "metadata": {},
   "outputs": [],
   "source": [
    "a = [1,2,3,4]"
   ]
  },
  {
   "cell_type": "code",
   "execution_count": 103,
   "id": "39cfdbca",
   "metadata": {},
   "outputs": [
    {
     "data": {
      "text/plain": [
       "[1, 2, 3, 4, 's', 'u', 'd', 'h']"
      ]
     },
     "execution_count": 103,
     "metadata": {},
     "output_type": "execute_result"
    }
   ],
   "source": [
    "a + list(\"sudh\")"
   ]
  },
  {
   "cell_type": "code",
   "execution_count": 104,
   "id": "af8d3717",
   "metadata": {},
   "outputs": [
    {
     "data": {
      "text/plain": [
       "[1, 2, 3, 4, 1, 2, 3, 4, 1, 2, 3, 4, 1, 2, 3, 4]"
      ]
     },
     "execution_count": 104,
     "metadata": {},
     "output_type": "execute_result"
    }
   ],
   "source": [
    "a*4"
   ]
  },
  {
   "cell_type": "code",
   "execution_count": 106,
   "id": "20b04aad",
   "metadata": {},
   "outputs": [
    {
     "data": {
      "text/plain": [
       "[0, 1, 2, 3, 4, 5, 6, 7, 8, 9]"
      ]
     },
     "execution_count": 106,
     "metadata": {},
     "output_type": "execute_result"
    }
   ],
   "source": [
    "list(range(10))"
   ]
  },
  {
   "cell_type": "code",
   "execution_count": 107,
   "id": "c289f987",
   "metadata": {},
   "outputs": [
    {
     "data": {
      "text/plain": [
       "[4, 5, 6, 7, 8, 9, 10, 11, 12, 13, 14, 15, 16, 17, 18, 19]"
      ]
     },
     "execution_count": 107,
     "metadata": {},
     "output_type": "execute_result"
    }
   ],
   "source": [
    "list(range(4,20))"
   ]
  },
  {
   "cell_type": "code",
   "execution_count": 109,
   "id": "101f942b",
   "metadata": {},
   "outputs": [
    {
     "data": {
      "text/plain": [
       "[4, 6, 8, 10, 12, 14, 16, 18]"
      ]
     },
     "execution_count": 109,
     "metadata": {},
     "output_type": "execute_result"
    }
   ],
   "source": [
    "list(range(4,20,2)) #(start, end, jump)"
   ]
  },
  {
   "cell_type": "code",
   "execution_count": 113,
   "id": "3dd62556",
   "metadata": {},
   "outputs": [
    {
     "data": {
      "text/plain": [
       "[]"
      ]
     },
     "execution_count": 113,
     "metadata": {},
     "output_type": "execute_result"
    }
   ],
   "source": [
    "list(range(-2,-13,1))"
   ]
  },
  {
   "cell_type": "code",
   "execution_count": 114,
   "id": "6d127612",
   "metadata": {},
   "outputs": [
    {
     "data": {
      "text/plain": [
       "[-2, -3, -4, -5, -6, -7, -8, -9, -10, -11, -12]"
      ]
     },
     "execution_count": 114,
     "metadata": {},
     "output_type": "execute_result"
    }
   ],
   "source": [
    "list(range(-2,-13,-1))"
   ]
  },
  {
   "cell_type": "code",
   "execution_count": 116,
   "id": "37493f13",
   "metadata": {},
   "outputs": [
    {
     "data": {
      "text/plain": [
       "[1, 2, 3, 4, 5, 6, 7, 8, 9, 10, 11, 12, 13, 14, 15, 16, 17, 18, 19]"
      ]
     },
     "execution_count": 116,
     "metadata": {},
     "output_type": "execute_result"
    }
   ],
   "source": [
    "list(range(1,20))"
   ]
  },
  {
   "cell_type": "code",
   "execution_count": 117,
   "id": "266d1e1d",
   "metadata": {},
   "outputs": [
    {
     "data": {
      "text/plain": [
       "30"
      ]
     },
     "execution_count": 117,
     "metadata": {},
     "output_type": "execute_result"
    }
   ],
   "source": [
    "a = 10\n",
    "b = 20\n",
    "a + b"
   ]
  },
  {
   "cell_type": "code",
   "execution_count": 120,
   "id": "24976ca3",
   "metadata": {},
   "outputs": [
    {
     "name": "stdout",
     "output_type": "stream",
     "text": [
      "4\n",
      "5\n"
     ]
    },
    {
     "data": {
      "text/plain": [
       "'45'"
      ]
     },
     "execution_count": 120,
     "metadata": {},
     "output_type": "execute_result"
    }
   ],
   "source": [
    "#input from user \n",
    "a = input() #input fn by default converts every value to string\n",
    "b = input()\n",
    "a+b"
   ]
  },
  {
   "cell_type": "code",
   "execution_count": 125,
   "id": "ca96f84c",
   "metadata": {},
   "outputs": [
    {
     "name": "stdout",
     "output_type": "stream",
     "text": [
      "enter value of a 6\n",
      "enter value of b 5\n"
     ]
    },
    {
     "data": {
      "text/plain": [
       "11"
      ]
     },
     "execution_count": 125,
     "metadata": {},
     "output_type": "execute_result"
    }
   ],
   "source": [
    "a = int(input(\"enter value of a \")) #typecasting\n",
    "b = int(input(\"enter value of b \"))\n",
    "a+b"
   ]
  },
  {
   "cell_type": "code",
   "execution_count": 126,
   "id": "801de3f7",
   "metadata": {},
   "outputs": [],
   "source": [
    "a, b, c, d = 10, 20, \"shar\", [1,2,3]"
   ]
  },
  {
   "cell_type": "code",
   "execution_count": 127,
   "id": "9b3a99a4",
   "metadata": {},
   "outputs": [
    {
     "data": {
      "text/plain": [
       "[1, 2, 3]"
      ]
     },
     "execution_count": 127,
     "metadata": {},
     "output_type": "execute_result"
    }
   ],
   "source": [
    "d"
   ]
  },
  {
   "cell_type": "code",
   "execution_count": 132,
   "id": "76c46a35",
   "metadata": {},
   "outputs": [],
   "source": [
    "#Tuple(collection of heterogeneous data)\n",
    "a = (1,2,3,4,5,6, \"shat\",[1,2] )"
   ]
  },
  {
   "cell_type": "code",
   "execution_count": 133,
   "id": "9b2afb24",
   "metadata": {},
   "outputs": [],
   "source": [
    "l = [1,2,3]"
   ]
  },
  {
   "cell_type": "code",
   "execution_count": 134,
   "id": "bdffc050",
   "metadata": {},
   "outputs": [
    {
     "data": {
      "text/plain": [
       "tuple"
      ]
     },
     "execution_count": 134,
     "metadata": {},
     "output_type": "execute_result"
    }
   ],
   "source": [
    "type(a)"
   ]
  },
  {
   "cell_type": "code",
   "execution_count": 135,
   "id": "6eee6dd6",
   "metadata": {},
   "outputs": [
    {
     "data": {
      "text/plain": [
       "list"
      ]
     },
     "execution_count": 135,
     "metadata": {},
     "output_type": "execute_result"
    }
   ],
   "source": [
    "type(l)"
   ]
  },
  {
   "cell_type": "code",
   "execution_count": 137,
   "id": "8ecf66a7",
   "metadata": {},
   "outputs": [
    {
     "data": {
      "text/plain": [
       "list"
      ]
     },
     "execution_count": 137,
     "metadata": {},
     "output_type": "execute_result"
    }
   ],
   "source": [
    "type(a[-1])"
   ]
  },
  {
   "cell_type": "code",
   "execution_count": 138,
   "id": "9d002272",
   "metadata": {},
   "outputs": [
    {
     "data": {
      "text/plain": [
       "(1, 2, 3, 4, 5)"
      ]
     },
     "execution_count": 138,
     "metadata": {},
     "output_type": "execute_result"
    }
   ],
   "source": [
    "a[0:5]"
   ]
  },
  {
   "cell_type": "code",
   "execution_count": 139,
   "id": "ccac02e6",
   "metadata": {},
   "outputs": [
    {
     "data": {
      "text/plain": [
       "(1, 2, 3, 4, 5, 6, 'shat', [1, 2])"
      ]
     },
     "execution_count": 139,
     "metadata": {},
     "output_type": "execute_result"
    }
   ],
   "source": [
    "a[0:]"
   ]
  },
  {
   "cell_type": "code",
   "execution_count": 141,
   "id": "364c24dd",
   "metadata": {},
   "outputs": [],
   "source": [
    "#diff b/w tupple and list"
   ]
  },
  {
   "cell_type": "code",
   "execution_count": 142,
   "id": "f90a81cb",
   "metadata": {},
   "outputs": [
    {
     "data": {
      "text/plain": [
       "[1, 2, 3]"
      ]
     },
     "execution_count": 142,
     "metadata": {},
     "output_type": "execute_result"
    }
   ],
   "source": [
    "l"
   ]
  },
  {
   "cell_type": "code",
   "execution_count": 143,
   "id": "4e20d99f",
   "metadata": {},
   "outputs": [
    {
     "data": {
      "text/plain": [
       "(1, 2, 3, 4, 5, 6, 'shat', [1, 2])"
      ]
     },
     "execution_count": 143,
     "metadata": {},
     "output_type": "execute_result"
    }
   ],
   "source": [
    "a"
   ]
  },
  {
   "cell_type": "code",
   "execution_count": 144,
   "id": "356a8ab1",
   "metadata": {},
   "outputs": [],
   "source": [
    "l[0] = \"shar\""
   ]
  },
  {
   "cell_type": "code",
   "execution_count": 145,
   "id": "aa7cc897",
   "metadata": {},
   "outputs": [
    {
     "data": {
      "text/plain": [
       "['shar', 2, 3]"
      ]
     },
     "execution_count": 145,
     "metadata": {},
     "output_type": "execute_result"
    }
   ],
   "source": [
    "l"
   ]
  },
  {
   "cell_type": "code",
   "execution_count": 146,
   "id": "3aae9a24",
   "metadata": {},
   "outputs": [
    {
     "ename": "TypeError",
     "evalue": "'tuple' object does not support item assignment",
     "output_type": "error",
     "traceback": [
      "\u001b[1;31m---------------------------------------------------------------------------\u001b[0m",
      "\u001b[1;31mTypeError\u001b[0m                                 Traceback (most recent call last)",
      "\u001b[1;32m<ipython-input-146-d0a126ec0448>\u001b[0m in \u001b[0;36m<module>\u001b[1;34m\u001b[0m\n\u001b[1;32m----> 1\u001b[1;33m \u001b[0ma\u001b[0m\u001b[1;33m[\u001b[0m\u001b[1;36m0\u001b[0m\u001b[1;33m]\u001b[0m \u001b[1;33m=\u001b[0m \u001b[1;34m\"shar\"\u001b[0m\u001b[1;33m\u001b[0m\u001b[1;33m\u001b[0m\u001b[0m\n\u001b[0m",
      "\u001b[1;31mTypeError\u001b[0m: 'tuple' object does not support item assignment"
     ]
    }
   ],
   "source": [
    "a[0] = \"shar\"  # tuple are called as immutablitiy while lists are mutable and even strings are immutable"
   ]
  },
  {
   "cell_type": "code",
   "execution_count": 147,
   "id": "580b91c3",
   "metadata": {},
   "outputs": [
    {
     "data": {
      "text/plain": [
       "['shar']"
      ]
     },
     "execution_count": 147,
     "metadata": {},
     "output_type": "execute_result"
    }
   ],
   "source": [
    "l[0::-1]"
   ]
  },
  {
   "cell_type": "code",
   "execution_count": null,
   "id": "4c788898",
   "metadata": {},
   "outputs": [],
   "source": []
  }
 ],
 "metadata": {
  "kernelspec": {
   "display_name": "Python 3",
   "language": "python",
   "name": "python3"
  },
  "language_info": {
   "codemirror_mode": {
    "name": "ipython",
    "version": 3
   },
   "file_extension": ".py",
   "mimetype": "text/x-python",
   "name": "python",
   "nbconvert_exporter": "python",
   "pygments_lexer": "ipython3",
   "version": "3.8.10"
  }
 },
 "nbformat": 4,
 "nbformat_minor": 5
}
