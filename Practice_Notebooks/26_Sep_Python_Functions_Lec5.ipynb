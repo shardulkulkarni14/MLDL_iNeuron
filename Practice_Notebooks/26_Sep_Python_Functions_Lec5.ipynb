{
 "cells": [
  {
   "cell_type": "code",
   "execution_count": 1,
   "id": "b8d33b25",
   "metadata": {},
   "outputs": [],
   "source": [
    "##Functions(used to resuability of the code)"
   ]
  },
  {
   "cell_type": "code",
   "execution_count": 3,
   "id": "5c85dbd5",
   "metadata": {},
   "outputs": [],
   "source": [
    "def test():\n",
    "    pass        #defining a function"
   ]
  },
  {
   "cell_type": "code",
   "execution_count": 4,
   "id": "bf9a195e",
   "metadata": {},
   "outputs": [],
   "source": [
    "test()  #calling a function"
   ]
  },
  {
   "cell_type": "code",
   "execution_count": 5,
   "id": "cd36b7fe",
   "metadata": {},
   "outputs": [],
   "source": [
    "def test1():\n",
    "    print(\"this is my first function\")"
   ]
  },
  {
   "cell_type": "code",
   "execution_count": 6,
   "id": "c40a789c",
   "metadata": {},
   "outputs": [
    {
     "name": "stdout",
     "output_type": "stream",
     "text": [
      "this is my first function\n"
     ]
    }
   ],
   "source": [
    "test1()"
   ]
  },
  {
   "cell_type": "code",
   "execution_count": 7,
   "id": "eb999cf8",
   "metadata": {},
   "outputs": [],
   "source": [
    "def shard():\n",
    "    print(\"This is my own function\")"
   ]
  },
  {
   "cell_type": "code",
   "execution_count": 8,
   "id": "a87d6848",
   "metadata": {},
   "outputs": [
    {
     "name": "stdout",
     "output_type": "stream",
     "text": [
      "This is my own function\n"
     ]
    }
   ],
   "source": [
    "shard()"
   ]
  },
  {
   "cell_type": "code",
   "execution_count": 9,
   "id": "d72b8aab",
   "metadata": {},
   "outputs": [],
   "source": [
    "def test2():\n",
    "    print(1+2)"
   ]
  },
  {
   "cell_type": "code",
   "execution_count": 10,
   "id": "7179bd41",
   "metadata": {},
   "outputs": [
    {
     "name": "stdout",
     "output_type": "stream",
     "text": [
      "3\n"
     ]
    }
   ],
   "source": [
    "test2()"
   ]
  },
  {
   "cell_type": "code",
   "execution_count": 11,
   "id": "358228bc",
   "metadata": {},
   "outputs": [
    {
     "name": "stdout",
     "output_type": "stream",
     "text": [
      "6\n"
     ]
    }
   ],
   "source": [
    "def test3(a, b):\n",
    "    print(a+b)\n",
    "test3(2,4)"
   ]
  },
  {
   "cell_type": "code",
   "execution_count": 12,
   "id": "8eba2e36",
   "metadata": {},
   "outputs": [
    {
     "name": "stdout",
     "output_type": "stream",
     "text": [
      "100\n"
     ]
    }
   ],
   "source": [
    "test3(54,46)"
   ]
  },
  {
   "cell_type": "code",
   "execution_count": 13,
   "id": "1095fe6a",
   "metadata": {},
   "outputs": [
    {
     "name": "stdout",
     "output_type": "stream",
     "text": [
      "shardulKulkarni\n"
     ]
    }
   ],
   "source": [
    "test3(\"shardul\", \"Kulkarni\")"
   ]
  },
  {
   "cell_type": "code",
   "execution_count": 15,
   "id": "6d171dde",
   "metadata": {},
   "outputs": [
    {
     "name": "stdout",
     "output_type": "stream",
     "text": [
      "4shar\n"
     ]
    }
   ],
   "source": [
    "test3(\"4\",\"shar\")"
   ]
  },
  {
   "cell_type": "code",
   "execution_count": 16,
   "id": "452bb031",
   "metadata": {},
   "outputs": [],
   "source": [
    "def test4(a,b):\n",
    "    if type(a) != str:\n",
    "        print(str(a) + b)"
   ]
  },
  {
   "cell_type": "code",
   "execution_count": 19,
   "id": "e807899b",
   "metadata": {},
   "outputs": [
    {
     "name": "stdout",
     "output_type": "stream",
     "text": [
      "4shar\n"
     ]
    }
   ],
   "source": [
    "test4(4,\"shar\")"
   ]
  },
  {
   "cell_type": "code",
   "execution_count": 20,
   "id": "90135db7",
   "metadata": {},
   "outputs": [
    {
     "name": "stdout",
     "output_type": "stream",
     "text": [
      "4shar\n"
     ]
    },
    {
     "ename": "TypeError",
     "evalue": "unsupported operand type(s) for +: 'NoneType' and 'str'",
     "output_type": "error",
     "traceback": [
      "\u001b[1;31m---------------------------------------------------------------------------\u001b[0m",
      "\u001b[1;31mTypeError\u001b[0m                                 Traceback (most recent call last)",
      "\u001b[1;32m<ipython-input-20-88ebdbab8624>\u001b[0m in \u001b[0;36m<module>\u001b[1;34m\u001b[0m\n\u001b[1;32m----> 1\u001b[1;33m \u001b[0mtest4\u001b[0m\u001b[1;33m(\u001b[0m\u001b[1;36m4\u001b[0m\u001b[1;33m,\u001b[0m\u001b[1;34m\"shar\"\u001b[0m\u001b[1;33m)\u001b[0m \u001b[1;33m+\u001b[0m \u001b[1;34m\"Kulkarni\"\u001b[0m\u001b[1;33m\u001b[0m\u001b[1;33m\u001b[0m\u001b[0m\n\u001b[0m",
      "\u001b[1;31mTypeError\u001b[0m: unsupported operand type(s) for +: 'NoneType' and 'str'"
     ]
    }
   ],
   "source": [
    "test4(4,\"shar\") + \"Kulkarni\""
   ]
  },
  {
   "cell_type": "code",
   "execution_count": 21,
   "id": "99b772fe",
   "metadata": {},
   "outputs": [
    {
     "name": "stdout",
     "output_type": "stream",
     "text": [
      "4shar\n"
     ]
    },
    {
     "data": {
      "text/plain": [
       "NoneType"
      ]
     },
     "execution_count": 21,
     "metadata": {},
     "output_type": "execute_result"
    }
   ],
   "source": [
    "type(test4(4,\"shar\"))  "
   ]
  },
  {
   "cell_type": "code",
   "execution_count": 22,
   "id": "de6980a6",
   "metadata": {},
   "outputs": [],
   "source": [
    "#print always reutrns nonetype"
   ]
  },
  {
   "cell_type": "code",
   "execution_count": 24,
   "id": "3836f63c",
   "metadata": {},
   "outputs": [],
   "source": [
    "def test5(a,b):\n",
    "    if type(a) != str:\n",
    "        return (str(a)+b)\n",
    "    else:\n",
    "        return (a+b)"
   ]
  },
  {
   "cell_type": "code",
   "execution_count": 25,
   "id": "d55babdb",
   "metadata": {},
   "outputs": [
    {
     "data": {
      "text/plain": [
       "'4sharKulkarni'"
      ]
     },
     "execution_count": 25,
     "metadata": {},
     "output_type": "execute_result"
    }
   ],
   "source": [
    "test5(4,\"shar\") + \"Kulkarni\""
   ]
  },
  {
   "cell_type": "code",
   "execution_count": 26,
   "id": "64b1cf6a",
   "metadata": {},
   "outputs": [
    {
     "data": {
      "text/plain": [
       "str"
      ]
     },
     "execution_count": 26,
     "metadata": {},
     "output_type": "execute_result"
    }
   ],
   "source": [
    "type(test5(4,\"shar\")) "
   ]
  },
  {
   "cell_type": "code",
   "execution_count": 27,
   "id": "3e38c40d",
   "metadata": {},
   "outputs": [],
   "source": [
    "def test6(a,b,c):\n",
    "    return a+2, b+3, c+4, a+b+c"
   ]
  },
  {
   "cell_type": "code",
   "execution_count": 35,
   "id": "4db81881",
   "metadata": {},
   "outputs": [
    {
     "data": {
      "text/plain": [
       "(5, 7, 10, 13)"
      ]
     },
     "execution_count": 35,
     "metadata": {},
     "output_type": "execute_result"
    }
   ],
   "source": [
    "n = test6(3,4,6)  #we get reutrn in the form of tuple\n",
    "n"
   ]
  },
  {
   "cell_type": "code",
   "execution_count": 32,
   "id": "b73b7830",
   "metadata": {},
   "outputs": [
    {
     "data": {
      "text/plain": [
       "tuple"
      ]
     },
     "execution_count": 32,
     "metadata": {},
     "output_type": "execute_result"
    }
   ],
   "source": [
    "type(test6(3,4,5))"
   ]
  },
  {
   "cell_type": "code",
   "execution_count": 33,
   "id": "f19e6115",
   "metadata": {},
   "outputs": [],
   "source": [
    "a, b,c,d = 10,4,\"shar\",56.45"
   ]
  },
  {
   "cell_type": "code",
   "execution_count": 37,
   "id": "aa50c2cb",
   "metadata": {},
   "outputs": [],
   "source": [
    "x,y,z,w = test6(3,4,5)  #instead of returing the complete answer in the form of tuple we can hold it in separate entities"
   ]
  },
  {
   "cell_type": "code",
   "execution_count": 38,
   "id": "ccbeb5f7",
   "metadata": {},
   "outputs": [
    {
     "data": {
      "text/plain": [
       "5"
      ]
     },
     "execution_count": 38,
     "metadata": {},
     "output_type": "execute_result"
    }
   ],
   "source": [
    "x"
   ]
  },
  {
   "cell_type": "code",
   "execution_count": 40,
   "id": "6cc4c72a",
   "metadata": {},
   "outputs": [
    {
     "data": {
      "text/plain": [
       "7"
      ]
     },
     "execution_count": 40,
     "metadata": {},
     "output_type": "execute_result"
    }
   ],
   "source": [
    "y"
   ]
  },
  {
   "cell_type": "code",
   "execution_count": 41,
   "id": "e5b38fdf",
   "metadata": {},
   "outputs": [
    {
     "data": {
      "text/plain": [
       "9"
      ]
     },
     "execution_count": 41,
     "metadata": {},
     "output_type": "execute_result"
    }
   ],
   "source": [
    "z"
   ]
  },
  {
   "cell_type": "code",
   "execution_count": 42,
   "id": "a80ef82c",
   "metadata": {},
   "outputs": [
    {
     "data": {
      "text/plain": [
       "12"
      ]
     },
     "execution_count": 42,
     "metadata": {},
     "output_type": "execute_result"
    }
   ],
   "source": [
    "w"
   ]
  },
  {
   "cell_type": "code",
   "execution_count": 43,
   "id": "342f9a47",
   "metadata": {},
   "outputs": [],
   "source": [
    "_ , _, _, b = test6(3,4,5)  #if we only want one operation"
   ]
  },
  {
   "cell_type": "code",
   "execution_count": 45,
   "id": "3657a793",
   "metadata": {},
   "outputs": [
    {
     "data": {
      "text/plain": [
       "20736"
      ]
     },
     "execution_count": 45,
     "metadata": {},
     "output_type": "execute_result"
    }
   ],
   "source": [
    "b**4"
   ]
  },
  {
   "cell_type": "code",
   "execution_count": 46,
   "id": "222350a2",
   "metadata": {},
   "outputs": [],
   "source": [
    "def test7(x,y):\n",
    "    return x+y, x, x**4, x*y"
   ]
  },
  {
   "cell_type": "code",
   "execution_count": 47,
   "id": "3cc3f8df",
   "metadata": {},
   "outputs": [
    {
     "data": {
      "text/plain": [
       "(7, 3, 81, 12)"
      ]
     },
     "execution_count": 47,
     "metadata": {},
     "output_type": "execute_result"
    }
   ],
   "source": [
    "test7(3,4)"
   ]
  },
  {
   "cell_type": "code",
   "execution_count": 48,
   "id": "2dcb1b77",
   "metadata": {},
   "outputs": [
    {
     "data": {
      "text/plain": [
       "81"
      ]
     },
     "execution_count": 48,
     "metadata": {},
     "output_type": "execute_result"
    }
   ],
   "source": [
    "#if we only want  x**4 operation\n",
    "test7(3,4)[2]"
   ]
  },
  {
   "cell_type": "code",
   "execution_count": 49,
   "id": "29520107",
   "metadata": {},
   "outputs": [],
   "source": [
    "#or\n",
    "\n",
    "_,_,t, _ = test7(3,4)"
   ]
  },
  {
   "cell_type": "code",
   "execution_count": 50,
   "id": "022ba159",
   "metadata": {},
   "outputs": [
    {
     "data": {
      "text/plain": [
       "81"
      ]
     },
     "execution_count": 50,
     "metadata": {},
     "output_type": "execute_result"
    }
   ],
   "source": [
    "t"
   ]
  },
  {
   "cell_type": "code",
   "execution_count": 51,
   "id": "3b982626",
   "metadata": {},
   "outputs": [],
   "source": [
    "def test8(b,v,c):\n",
    "    d = b*v*c\n",
    "    f = b+v+c+d\n",
    "    return d, f"
   ]
  },
  {
   "cell_type": "code",
   "execution_count": 52,
   "id": "96d7d500",
   "metadata": {},
   "outputs": [
    {
     "data": {
      "text/plain": [
       "(120, 135)"
      ]
     },
     "execution_count": 52,
     "metadata": {},
     "output_type": "execute_result"
    }
   ],
   "source": [
    "test8(4,5,6)"
   ]
  },
  {
   "cell_type": "code",
   "execution_count": 53,
   "id": "a932ee0a",
   "metadata": {},
   "outputs": [],
   "source": [
    "a, b = test8(4,5,6)"
   ]
  },
  {
   "cell_type": "code",
   "execution_count": 54,
   "id": "147c5f36",
   "metadata": {},
   "outputs": [
    {
     "data": {
      "text/plain": [
       "120"
      ]
     },
     "execution_count": 54,
     "metadata": {},
     "output_type": "execute_result"
    }
   ],
   "source": [
    "a"
   ]
  },
  {
   "cell_type": "code",
   "execution_count": 55,
   "id": "e96e7adb",
   "metadata": {},
   "outputs": [
    {
     "data": {
      "text/plain": [
       "135"
      ]
     },
     "execution_count": 55,
     "metadata": {},
     "output_type": "execute_result"
    }
   ],
   "source": [
    "b"
   ]
  },
  {
   "cell_type": "code",
   "execution_count": 56,
   "id": "bee7edd4",
   "metadata": {},
   "outputs": [],
   "source": [
    "#pass a list inside function and find out the no. of strings inside a list"
   ]
  },
  {
   "cell_type": "code",
   "execution_count": 57,
   "id": "ea32708e",
   "metadata": {},
   "outputs": [],
   "source": [
    "l = [\"shar\", 3,4,5,6,\"kulk\", \"a\", \"b\", 56.45]"
   ]
  },
  {
   "cell_type": "code",
   "execution_count": 58,
   "id": "d4fa353e",
   "metadata": {},
   "outputs": [
    {
     "name": "stdout",
     "output_type": "stream",
     "text": [
      "4\n"
     ]
    }
   ],
   "source": [
    "count = 0\n",
    "for i in l:\n",
    "    if type(i) == str:\n",
    "        count += 1\n",
    "print(count)"
   ]
  },
  {
   "cell_type": "code",
   "execution_count": 68,
   "id": "1d93a134",
   "metadata": {},
   "outputs": [],
   "source": [
    "def string_count(l):\n",
    "    count = 0\n",
    "    for i in l:\n",
    "        if type(i) == str:\n",
    "            count += 1\n",
    "    #print(count)\n",
    "    return count"
   ]
  },
  {
   "cell_type": "code",
   "execution_count": 69,
   "id": "cbb03cfe",
   "metadata": {},
   "outputs": [
    {
     "data": {
      "text/plain": [
       "4"
      ]
     },
     "execution_count": 69,
     "metadata": {},
     "output_type": "execute_result"
    }
   ],
   "source": [
    "string_count(l)"
   ]
  },
  {
   "cell_type": "code",
   "execution_count": 2,
   "id": "e8a03824",
   "metadata": {},
   "outputs": [],
   "source": [
    "l1 = [\"shar\", 3,4,5,6,\"kulk\", \"a\", \"b\", 56.45, \"ddf\", \"dsaf\", 67]"
   ]
  },
  {
   "cell_type": "code",
   "execution_count": 71,
   "id": "9f9b9d1c",
   "metadata": {},
   "outputs": [
    {
     "data": {
      "text/plain": [
       "6"
      ]
     },
     "execution_count": 71,
     "metadata": {},
     "output_type": "execute_result"
    }
   ],
   "source": [
    "string_count(l1)"
   ]
  },
  {
   "cell_type": "code",
   "execution_count": 72,
   "id": "8e02bfe8",
   "metadata": {},
   "outputs": [
    {
     "data": {
      "text/plain": [
       "int"
      ]
     },
     "execution_count": 72,
     "metadata": {},
     "output_type": "execute_result"
    }
   ],
   "source": [
    "type(string_count(l))"
   ]
  },
  {
   "cell_type": "code",
   "execution_count": 73,
   "id": "394e8a5f",
   "metadata": {},
   "outputs": [
    {
     "data": {
      "text/plain": [
       "'\"#for inuilt functions if we enter shift+tab then we get the description of the function \\nbut it is not available in user defined functions, so to achieve this we follow the below procedure'"
      ]
     },
     "execution_count": 73,
     "metadata": {},
     "output_type": "execute_result"
    }
   ],
   "source": [
    "\"\"\"\"#for inuilt functions if we enter shift+tab then we get the description of the function \n",
    "but it is not available in user defined functions, so to achieve this we follow the below procedure\"\"\""
   ]
  },
  {
   "cell_type": "code",
   "execution_count": 4,
   "id": "95b956d7",
   "metadata": {},
   "outputs": [
    {
     "data": {
      "text/plain": [
       "6"
      ]
     },
     "execution_count": 4,
     "metadata": {},
     "output_type": "execute_result"
    }
   ],
   "source": [
    "#Docstring\n",
    "\n",
    "def string_count(l1):\n",
    "    \"\"\"this is my function where it will try to return number of string variables presnt inside the list\"\"\"\n",
    "    count = 0 \n",
    "    for i in l1:\n",
    "        if type(i) == str:\n",
    "            count += 1\n",
    "    return count\n",
    "string_count(l1)"
   ]
  },
  {
   "cell_type": "code",
   "execution_count": 75,
   "id": "36cc0a20",
   "metadata": {},
   "outputs": [],
   "source": [
    "def test9(b,c):\n",
    "    return b,c"
   ]
  },
  {
   "cell_type": "code",
   "execution_count": 77,
   "id": "ec3e8bb7",
   "metadata": {},
   "outputs": [
    {
     "ename": "TypeError",
     "evalue": "test9() missing 1 required positional argument: 'c'",
     "output_type": "error",
     "traceback": [
      "\u001b[1;31m---------------------------------------------------------------------------\u001b[0m",
      "\u001b[1;31mTypeError\u001b[0m                                 Traceback (most recent call last)",
      "\u001b[1;32m<ipython-input-77-3685dac89a28>\u001b[0m in \u001b[0;36m<module>\u001b[1;34m\u001b[0m\n\u001b[1;32m----> 1\u001b[1;33m \u001b[0mtest9\u001b[0m\u001b[1;33m(\u001b[0m\u001b[1;36m4\u001b[0m\u001b[1;33m,\u001b[0m\u001b[1;33m)\u001b[0m\u001b[1;33m\u001b[0m\u001b[1;33m\u001b[0m\u001b[0m\n\u001b[0m",
      "\u001b[1;31mTypeError\u001b[0m: test9() missing 1 required positional argument: 'c'"
     ]
    }
   ],
   "source": [
    "test9(4,)"
   ]
  },
  {
   "cell_type": "code",
   "execution_count": 78,
   "id": "8eef1b5e",
   "metadata": {},
   "outputs": [],
   "source": [
    "#To avoid this define default values"
   ]
  },
  {
   "cell_type": "code",
   "execution_count": 79,
   "id": "6ca1fb31",
   "metadata": {},
   "outputs": [],
   "source": [
    "def test9(b = 10, c= 6):\n",
    "    return b,c"
   ]
  },
  {
   "cell_type": "code",
   "execution_count": 80,
   "id": "cd80c25f",
   "metadata": {},
   "outputs": [
    {
     "data": {
      "text/plain": [
       "(4, 6)"
      ]
     },
     "execution_count": 80,
     "metadata": {},
     "output_type": "execute_result"
    }
   ],
   "source": [
    "test9(4)"
   ]
  },
  {
   "cell_type": "code",
   "execution_count": 81,
   "id": "0dd3777c",
   "metadata": {
    "scrolled": true
   },
   "outputs": [
    {
     "data": {
      "text/plain": [
       "('sudh', 6)"
      ]
     },
     "execution_count": 81,
     "metadata": {},
     "output_type": "execute_result"
    }
   ],
   "source": [
    "test9(\"sudh\")"
   ]
  },
  {
   "cell_type": "code",
   "execution_count": 82,
   "id": "ba432882",
   "metadata": {},
   "outputs": [],
   "source": [
    "def test10(a,b,c,n,v):\n",
    "    return \"this is my fun\""
   ]
  },
  {
   "cell_type": "code",
   "execution_count": 85,
   "id": "912ab855",
   "metadata": {},
   "outputs": [
    {
     "ename": "TypeError",
     "evalue": "test10() takes 5 positional arguments but 7 were given",
     "output_type": "error",
     "traceback": [
      "\u001b[1;31m---------------------------------------------------------------------------\u001b[0m",
      "\u001b[1;31mTypeError\u001b[0m                                 Traceback (most recent call last)",
      "\u001b[1;32m<ipython-input-85-c28d67225b7b>\u001b[0m in \u001b[0;36m<module>\u001b[1;34m\u001b[0m\n\u001b[1;32m----> 1\u001b[1;33m \u001b[0mtest10\u001b[0m\u001b[1;33m(\u001b[0m\u001b[1;36m2\u001b[0m\u001b[1;33m,\u001b[0m\u001b[1;36m3\u001b[0m\u001b[1;33m,\u001b[0m\u001b[1;36m4\u001b[0m\u001b[1;33m,\u001b[0m\u001b[1;36m5\u001b[0m\u001b[1;33m,\u001b[0m\u001b[1;36m6\u001b[0m\u001b[1;33m,\u001b[0m \u001b[1;36m7\u001b[0m\u001b[1;33m,\u001b[0m\u001b[1;36m8\u001b[0m\u001b[1;33m)\u001b[0m\u001b[1;33m\u001b[0m\u001b[1;33m\u001b[0m\u001b[0m\n\u001b[0m",
      "\u001b[1;31mTypeError\u001b[0m: test10() takes 5 positional arguments but 7 were given"
     ]
    }
   ],
   "source": [
    "test10(2,3,4,5,6, 7,8)"
   ]
  },
  {
   "cell_type": "code",
   "execution_count": 86,
   "id": "c9d91e7a",
   "metadata": {},
   "outputs": [],
   "source": [
    "#create a fun, where it takes n no of strings as arguments and then it returns concatenation os all the strings"
   ]
  },
  {
   "cell_type": "code",
   "execution_count": 89,
   "id": "0d6d9d17",
   "metadata": {},
   "outputs": [],
   "source": [
    "def test11(*args):   #we use * to pass any no. of variables in the function and args is just a name\n",
    "    return args"
   ]
  },
  {
   "cell_type": "code",
   "execution_count": 90,
   "id": "64a7fe81",
   "metadata": {},
   "outputs": [
    {
     "data": {
      "text/plain": [
       "(3, 4, 5, 6)"
      ]
     },
     "execution_count": 90,
     "metadata": {},
     "output_type": "execute_result"
    }
   ],
   "source": [
    "test11(3,4,5,6)"
   ]
  },
  {
   "cell_type": "code",
   "execution_count": 91,
   "id": "512654b1",
   "metadata": {},
   "outputs": [
    {
     "data": {
      "text/plain": [
       "(3, 'sudh')"
      ]
     },
     "execution_count": 91,
     "metadata": {},
     "output_type": "execute_result"
    }
   ],
   "source": [
    "test11(3,\"sudh\")"
   ]
  },
  {
   "cell_type": "code",
   "execution_count": 92,
   "id": "786e042e",
   "metadata": {},
   "outputs": [
    {
     "data": {
      "text/plain": [
       "(4, 5, 6, 7, 8, 9, 'sdghdf')"
      ]
     },
     "execution_count": 92,
     "metadata": {},
     "output_type": "execute_result"
    }
   ],
   "source": [
    "test11(4,5,6,7,8,9,\"sdghdf\",\"dsftgsd\")"
   ]
  },
  {
   "cell_type": "code",
   "execution_count": 96,
   "id": "8a376a72",
   "metadata": {},
   "outputs": [
    {
     "name": "stdout",
     "output_type": "stream",
     "text": [
      "sdghdfdsftgsdShardul\n"
     ]
    }
   ],
   "source": [
    "#if the variables are strings then provide with concatenation\n",
    "\n",
    "p = test11(4,5,6,7,8,9,\"sdghdf\",\"dsftgsd\", \"Shardul\", [3,4,5,6])\n",
    "t = \"\"\n",
    "for i in p:\n",
    "    if type(i) == str:\n",
    "        t = t + i\n",
    "print(t)"
   ]
  },
  {
   "cell_type": "code",
   "execution_count": 94,
   "id": "887e5279",
   "metadata": {},
   "outputs": [],
   "source": [
    "#or\n",
    "\n",
    "def test12(*args):\n",
    "    con = \"\"\n",
    "    for i in args:\n",
    "        if type(i) == str:\n",
    "            con = con + i\n",
    "    return con"
   ]
  },
  {
   "cell_type": "code",
   "execution_count": 95,
   "id": "a0779ddd",
   "metadata": {},
   "outputs": [
    {
     "data": {
      "text/plain": [
       "'sdghdfdsftgsdShardul'"
      ]
     },
     "execution_count": 95,
     "metadata": {},
     "output_type": "execute_result"
    }
   ],
   "source": [
    "test12(4,5,6,7,8,9,\"sdghdf\",\"dsftgsd\", \"Shardul\", [3,4,5,6])"
   ]
  },
  {
   "cell_type": "code",
   "execution_count": 97,
   "id": "cb1eead8",
   "metadata": {},
   "outputs": [],
   "source": [
    "#args is just a name\n",
    "\n",
    "def test12(*shar):\n",
    "    con = \"\"\n",
    "    for i in shar:\n",
    "        if type(i) == str:\n",
    "            con = con + i\n",
    "    return con"
   ]
  },
  {
   "cell_type": "code",
   "execution_count": 98,
   "id": "28f232dc",
   "metadata": {},
   "outputs": [
    {
     "data": {
      "text/plain": [
       "'sdghdfdsftgsdShardul'"
      ]
     },
     "execution_count": 98,
     "metadata": {},
     "output_type": "execute_result"
    }
   ],
   "source": [
    "test12(4,5,6,7,8,9,\"sdghdf\",\"dsftgsd\", \"Shardul\", [3,4,5,6])"
   ]
  },
  {
   "cell_type": "code",
   "execution_count": 99,
   "id": "4c288239",
   "metadata": {},
   "outputs": [],
   "source": [
    "def test13(*args, a,b,c,d):\n",
    "    return args, a,b,c,d"
   ]
  },
  {
   "cell_type": "code",
   "execution_count": 102,
   "id": "e44bca48",
   "metadata": {},
   "outputs": [
    {
     "ename": "TypeError",
     "evalue": "test13() missing 4 required keyword-only arguments: 'a', 'b', 'c', and 'd'",
     "output_type": "error",
     "traceback": [
      "\u001b[1;31m---------------------------------------------------------------------------\u001b[0m",
      "\u001b[1;31mTypeError\u001b[0m                                 Traceback (most recent call last)",
      "\u001b[1;32m<ipython-input-102-55a3bdd1cdaa>\u001b[0m in \u001b[0;36m<module>\u001b[1;34m\u001b[0m\n\u001b[1;32m----> 1\u001b[1;33m \u001b[0mtest13\u001b[0m\u001b[1;33m(\u001b[0m\u001b[1;33m(\u001b[0m\u001b[1;36m3\u001b[0m\u001b[1;33m,\u001b[0m\u001b[1;36m4\u001b[0m\u001b[1;33m,\u001b[0m\u001b[1;36m5\u001b[0m\u001b[1;33m,\u001b[0m\u001b[1;36m6\u001b[0m\u001b[1;33m,\u001b[0m\u001b[1;36m6\u001b[0m\u001b[1;33m,\u001b[0m\u001b[1;36m7\u001b[0m\u001b[1;33m)\u001b[0m\u001b[1;33m,\u001b[0m\u001b[1;36m2\u001b[0m\u001b[1;33m,\u001b[0m\u001b[1;36m3\u001b[0m\u001b[1;33m,\u001b[0m\u001b[1;36m4\u001b[0m\u001b[1;33m,\u001b[0m\u001b[1;36m5\u001b[0m\u001b[1;33m)\u001b[0m\u001b[1;33m\u001b[0m\u001b[1;33m\u001b[0m\u001b[0m\n\u001b[0m",
      "\u001b[1;31mTypeError\u001b[0m: test13() missing 4 required keyword-only arguments: 'a', 'b', 'c', and 'd'"
     ]
    }
   ],
   "source": [
    "test13(3,4,5,6,6,7)"
   ]
  },
  {
   "cell_type": "code",
   "execution_count": 104,
   "id": "72768c3f",
   "metadata": {},
   "outputs": [
    {
     "data": {
      "text/plain": [
       "((3, 4, 5, 6, 6, 7), 4, 5, 6, 10)"
      ]
     },
     "execution_count": 104,
     "metadata": {},
     "output_type": "execute_result"
    }
   ],
   "source": [
    "#to avoid this\n",
    "test13(3,4,5,6,6,7, a= 4, b =5, d =10,c=6)"
   ]
  },
  {
   "cell_type": "code",
   "execution_count": 105,
   "id": "0880acda",
   "metadata": {},
   "outputs": [],
   "source": [
    "#Keyword arguments (to pass data as key, value pair i.e as dictionary and n no. of data) - returns dictionary"
   ]
  },
  {
   "cell_type": "code",
   "execution_count": 106,
   "id": "9738cc6b",
   "metadata": {},
   "outputs": [],
   "source": [
    "def test14(**kwargs):\n",
    "    return kwargs"
   ]
  },
  {
   "cell_type": "code",
   "execution_count": 110,
   "id": "2a7aadf0",
   "metadata": {},
   "outputs": [
    {
     "data": {
      "text/plain": [
       "{'a': 34, 'b': 56, 'c': 67, 'sudh': [3, 4, 5, 6, 6]}"
      ]
     },
     "execution_count": 110,
     "metadata": {},
     "output_type": "execute_result"
    }
   ],
   "source": [
    "test14(a= 34, b =56, c = 67, sudh = [3,4,5,6,6])"
   ]
  },
  {
   "cell_type": "code",
   "execution_count": 112,
   "id": "06cd5e0a",
   "metadata": {},
   "outputs": [],
   "source": [
    "#create a function that takes any no. of key value pair and if value = list then return no. of string inside a list"
   ]
  },
  {
   "cell_type": "code",
   "execution_count": 117,
   "id": "7a319b4e",
   "metadata": {},
   "outputs": [],
   "source": [
    "def test15(**kwargs):\n",
    "    count = 0\n",
    "    for i,j in kwargs.items():\n",
    "        if type(j) == list:\n",
    "            for k in j:\n",
    "                if type(k) == str:\n",
    "                    count += 1\n",
    "    return count"
   ]
  },
  {
   "cell_type": "code",
   "execution_count": 119,
   "id": "9a40af86",
   "metadata": {},
   "outputs": [
    {
     "data": {
      "text/plain": [
       "3"
      ]
     },
     "execution_count": 119,
     "metadata": {},
     "output_type": "execute_result"
    }
   ],
   "source": [
    "test15(a= 34, b =56, c = 67, sudh = [3,4,5,6,6,\"a\",\"b\"], shar = [1,2,3,4,\"c\"])"
   ]
  },
  {
   "cell_type": "code",
   "execution_count": null,
   "id": "030e1b20",
   "metadata": {},
   "outputs": [],
   "source": []
  }
 ],
 "metadata": {
  "kernelspec": {
   "display_name": "Python 3 (ipykernel)",
   "language": "python",
   "name": "python3"
  },
  "language_info": {
   "codemirror_mode": {
    "name": "ipython",
    "version": 3
   },
   "file_extension": ".py",
   "mimetype": "text/x-python",
   "name": "python",
   "nbconvert_exporter": "python",
   "pygments_lexer": "ipython3",
   "version": "3.9.7"
  }
 },
 "nbformat": 4,
 "nbformat_minor": 5
}
