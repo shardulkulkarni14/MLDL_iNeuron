{
 "cells": [
  {
   "cell_type": "code",
   "execution_count": 1,
   "id": "4d53627e",
   "metadata": {},
   "outputs": [],
   "source": [
    "#tuple(Immutable entity)"
   ]
  },
  {
   "cell_type": "code",
   "execution_count": 17,
   "id": "670544d9",
   "metadata": {},
   "outputs": [],
   "source": [
    "t = (1,2,2,5,6,7,\"shar\",\"ineuron\")"
   ]
  },
  {
   "cell_type": "code",
   "execution_count": 3,
   "id": "ebc66714",
   "metadata": {},
   "outputs": [
    {
     "data": {
      "text/plain": [
       "1"
      ]
     },
     "execution_count": 3,
     "metadata": {},
     "output_type": "execute_result"
    }
   ],
   "source": [
    "t[0]"
   ]
  },
  {
   "cell_type": "code",
   "execution_count": 4,
   "id": "70599df4",
   "metadata": {},
   "outputs": [
    {
     "data": {
      "text/plain": [
       "(1, 2, 2, 5)"
      ]
     },
     "execution_count": 4,
     "metadata": {},
     "output_type": "execute_result"
    }
   ],
   "source": [
    "t[0:4]"
   ]
  },
  {
   "cell_type": "code",
   "execution_count": 6,
   "id": "a8ded508",
   "metadata": {},
   "outputs": [],
   "source": [
    "#in-built function (only 2)"
   ]
  },
  {
   "cell_type": "code",
   "execution_count": 8,
   "id": "fa77edd8",
   "metadata": {},
   "outputs": [
    {
     "data": {
      "text/plain": [
       "2"
      ]
     },
     "execution_count": 8,
     "metadata": {},
     "output_type": "execute_result"
    }
   ],
   "source": [
    "t.count(2)  #no. of times 2 occuring in tuple\n"
   ]
  },
  {
   "cell_type": "code",
   "execution_count": 10,
   "id": "44bd1a61",
   "metadata": {},
   "outputs": [
    {
     "data": {
      "text/plain": [
       "1"
      ]
     },
     "execution_count": 10,
     "metadata": {},
     "output_type": "execute_result"
    }
   ],
   "source": [
    "t.count(\"shar\")"
   ]
  },
  {
   "cell_type": "code",
   "execution_count": 11,
   "id": "5f153a33",
   "metadata": {},
   "outputs": [
    {
     "data": {
      "text/plain": [
       "0"
      ]
     },
     "execution_count": 11,
     "metadata": {},
     "output_type": "execute_result"
    }
   ],
   "source": [
    "t.index(1)  #it gives index at which 1 is available"
   ]
  },
  {
   "cell_type": "code",
   "execution_count": 12,
   "id": "a68b63cf",
   "metadata": {},
   "outputs": [
    {
     "data": {
      "text/plain": [
       "7"
      ]
     },
     "execution_count": 12,
     "metadata": {},
     "output_type": "execute_result"
    }
   ],
   "source": [
    "t.index(\"ineuron\")"
   ]
  },
  {
   "cell_type": "code",
   "execution_count": 14,
   "id": "0ce99059",
   "metadata": {},
   "outputs": [
    {
     "data": {
      "text/plain": [
       "1"
      ]
     },
     "execution_count": 14,
     "metadata": {},
     "output_type": "execute_result"
    }
   ],
   "source": [
    "t.index(2)"
   ]
  },
  {
   "cell_type": "code",
   "execution_count": 18,
   "id": "fef109e2",
   "metadata": {},
   "outputs": [],
   "source": [
    "del(t)  #to delete tuple"
   ]
  },
  {
   "cell_type": "code",
   "execution_count": 19,
   "id": "7505ba31",
   "metadata": {},
   "outputs": [],
   "source": [
    "#Set  (Holds dataset with unique elements - repetition is not allowed)"
   ]
  },
  {
   "cell_type": "code",
   "execution_count": 20,
   "id": "ac01358c",
   "metadata": {},
   "outputs": [],
   "source": [
    "s = set()"
   ]
  },
  {
   "cell_type": "code",
   "execution_count": 21,
   "id": "07d0055c",
   "metadata": {},
   "outputs": [],
   "source": [
    "s.add(3)"
   ]
  },
  {
   "cell_type": "code",
   "execution_count": 22,
   "id": "d76edea4",
   "metadata": {},
   "outputs": [],
   "source": [
    "s.add(5)"
   ]
  },
  {
   "cell_type": "code",
   "execution_count": 23,
   "id": "ba38e0d2",
   "metadata": {},
   "outputs": [],
   "source": [
    "s.add(\"shar\")"
   ]
  },
  {
   "cell_type": "code",
   "execution_count": 24,
   "id": "9a639966",
   "metadata": {},
   "outputs": [],
   "source": [
    "s.add(3)"
   ]
  },
  {
   "cell_type": "code",
   "execution_count": 25,
   "id": "396f7624",
   "metadata": {},
   "outputs": [
    {
     "data": {
      "text/plain": [
       "{3, 5, 'shar'}"
      ]
     },
     "execution_count": 25,
     "metadata": {},
     "output_type": "execute_result"
    }
   ],
   "source": [
    "s"
   ]
  },
  {
   "cell_type": "code",
   "execution_count": 28,
   "id": "e2514431",
   "metadata": {},
   "outputs": [],
   "source": [
    "s1 = {3,4,5,6,7,8,8,9,9,9, \"shar\",\"Shar\"}"
   ]
  },
  {
   "cell_type": "code",
   "execution_count": 29,
   "id": "6de3f34a",
   "metadata": {},
   "outputs": [
    {
     "data": {
      "text/plain": [
       "{3, 4, 5, 6, 7, 8, 9, 'Shar', 'shar'}"
      ]
     },
     "execution_count": 29,
     "metadata": {},
     "output_type": "execute_result"
    }
   ],
   "source": [
    "s1  ##removed duplicates"
   ]
  },
  {
   "cell_type": "code",
   "execution_count": 30,
   "id": "b784bfb8",
   "metadata": {},
   "outputs": [],
   "source": [
    "l = [1,2,2,3,4,4,4,4,5,6,6,6,7,8,8,8]"
   ]
  },
  {
   "cell_type": "code",
   "execution_count": 31,
   "id": "27a7849d",
   "metadata": {},
   "outputs": [
    {
     "data": {
      "text/plain": [
       "{1, 2, 3, 4, 5, 6, 7, 8}"
      ]
     },
     "execution_count": 31,
     "metadata": {},
     "output_type": "execute_result"
    }
   ],
   "source": [
    "#to remove duplicate from list(but if it contains list inside list then it fails)\n",
    "\n",
    "set(l)"
   ]
  },
  {
   "cell_type": "code",
   "execution_count": 32,
   "id": "479fed17",
   "metadata": {},
   "outputs": [
    {
     "ename": "TypeError",
     "evalue": "unhashable type: 'list'",
     "output_type": "error",
     "traceback": [
      "\u001b[1;31m---------------------------------------------------------------------------\u001b[0m",
      "\u001b[1;31mTypeError\u001b[0m                                 Traceback (most recent call last)",
      "\u001b[1;32m<ipython-input-32-84a15d6afae0>\u001b[0m in \u001b[0;36m<module>\u001b[1;34m\u001b[0m\n\u001b[0;32m      1\u001b[0m \u001b[0ml\u001b[0m \u001b[1;33m=\u001b[0m \u001b[1;33m[\u001b[0m\u001b[1;36m1\u001b[0m\u001b[1;33m,\u001b[0m\u001b[1;36m2\u001b[0m\u001b[1;33m,\u001b[0m\u001b[1;36m2\u001b[0m\u001b[1;33m,\u001b[0m\u001b[1;36m3\u001b[0m\u001b[1;33m,\u001b[0m\u001b[1;36m4\u001b[0m\u001b[1;33m,\u001b[0m\u001b[1;36m4\u001b[0m\u001b[1;33m,\u001b[0m\u001b[1;36m4\u001b[0m\u001b[1;33m,\u001b[0m\u001b[1;36m4\u001b[0m\u001b[1;33m,\u001b[0m\u001b[1;36m5\u001b[0m\u001b[1;33m,\u001b[0m\u001b[1;36m6\u001b[0m\u001b[1;33m,\u001b[0m\u001b[1;36m6\u001b[0m\u001b[1;33m,\u001b[0m\u001b[1;36m6\u001b[0m\u001b[1;33m,\u001b[0m\u001b[1;36m7\u001b[0m\u001b[1;33m,\u001b[0m\u001b[1;36m8\u001b[0m\u001b[1;33m,\u001b[0m\u001b[1;36m8\u001b[0m\u001b[1;33m,\u001b[0m\u001b[1;36m8\u001b[0m\u001b[1;33m,\u001b[0m \u001b[1;33m[\u001b[0m\u001b[1;36m1\u001b[0m\u001b[1;33m,\u001b[0m\u001b[1;36m2\u001b[0m\u001b[1;33m,\u001b[0m\u001b[1;36m3\u001b[0m\u001b[1;33m]\u001b[0m\u001b[1;33m]\u001b[0m\u001b[1;33m\u001b[0m\u001b[1;33m\u001b[0m\u001b[0m\n\u001b[1;32m----> 2\u001b[1;33m \u001b[0mset\u001b[0m\u001b[1;33m(\u001b[0m\u001b[0ml\u001b[0m\u001b[1;33m)\u001b[0m\u001b[1;33m\u001b[0m\u001b[1;33m\u001b[0m\u001b[0m\n\u001b[0m",
      "\u001b[1;31mTypeError\u001b[0m: unhashable type: 'list'"
     ]
    }
   ],
   "source": [
    "l = [1,2,2,3,4,4,4,4,5,6,6,6,7,8,8,8, [1,2,3]]\n",
    "set(l)   "
   ]
  },
  {
   "cell_type": "code",
   "execution_count": 33,
   "id": "9c1e9bba",
   "metadata": {},
   "outputs": [
    {
     "data": {
      "text/plain": [
       "{1, 2, 3, 4, 5, 6, 7, 8}"
      ]
     },
     "execution_count": 33,
     "metadata": {},
     "output_type": "execute_result"
    }
   ],
   "source": [
    "s1 = set()\n",
    "for i in l:\n",
    "    if type(i) != list:\n",
    "        s1.add(i)\n",
    "        \n",
    "        \n",
    "s1"
   ]
  },
  {
   "cell_type": "code",
   "execution_count": 34,
   "id": "c335139f",
   "metadata": {},
   "outputs": [],
   "source": [
    "#inbulit function of set"
   ]
  },
  {
   "cell_type": "code",
   "execution_count": 36,
   "id": "a1020351",
   "metadata": {},
   "outputs": [],
   "source": [
    "s1.remove(3)   #removes element 3  from the set"
   ]
  },
  {
   "cell_type": "code",
   "execution_count": 41,
   "id": "1848c2c8",
   "metadata": {},
   "outputs": [
    {
     "ename": "KeyError",
     "evalue": "3454",
     "output_type": "error",
     "traceback": [
      "\u001b[1;31m---------------------------------------------------------------------------\u001b[0m",
      "\u001b[1;31mKeyError\u001b[0m                                  Traceback (most recent call last)",
      "\u001b[1;32m<ipython-input-41-b33920376510>\u001b[0m in \u001b[0;36m<module>\u001b[1;34m\u001b[0m\n\u001b[1;32m----> 1\u001b[1;33m \u001b[0ms1\u001b[0m\u001b[1;33m.\u001b[0m\u001b[0mremove\u001b[0m\u001b[1;33m(\u001b[0m\u001b[1;36m3454\u001b[0m\u001b[1;33m)\u001b[0m\u001b[1;33m\u001b[0m\u001b[1;33m\u001b[0m\u001b[0m\n\u001b[0m",
      "\u001b[1;31mKeyError\u001b[0m: 3454"
     ]
    }
   ],
   "source": [
    "s1.remove(3454)  #element is not present in the set"
   ]
  },
  {
   "cell_type": "code",
   "execution_count": 37,
   "id": "0af4d7c9",
   "metadata": {},
   "outputs": [
    {
     "data": {
      "text/plain": [
       "{1, 2, 4, 5, 6, 7, 8}"
      ]
     },
     "execution_count": 37,
     "metadata": {},
     "output_type": "execute_result"
    }
   ],
   "source": [
    "s1"
   ]
  },
  {
   "cell_type": "code",
   "execution_count": 38,
   "id": "8e168637",
   "metadata": {},
   "outputs": [],
   "source": [
    "s1.discard(5)"
   ]
  },
  {
   "cell_type": "code",
   "execution_count": 39,
   "id": "c298a63d",
   "metadata": {},
   "outputs": [
    {
     "data": {
      "text/plain": [
       "{1, 2, 4, 6, 7, 8}"
      ]
     },
     "execution_count": 39,
     "metadata": {},
     "output_type": "execute_result"
    }
   ],
   "source": [
    "s1"
   ]
  },
  {
   "cell_type": "code",
   "execution_count": 42,
   "id": "f27a23fd",
   "metadata": {},
   "outputs": [],
   "source": [
    "s1.discard(3454)  #even though element is not present in the set but it doesnot give error"
   ]
  },
  {
   "cell_type": "code",
   "execution_count": 43,
   "id": "81466426",
   "metadata": {},
   "outputs": [],
   "source": [
    "x = {\"ineuron\",\"machine\",\"learning\"}\n",
    "y = {\"stats\",\"deep learning\", \"computer vision\", \"ineuron\"}"
   ]
  },
  {
   "cell_type": "code",
   "execution_count": 44,
   "id": "1892ca24",
   "metadata": {},
   "outputs": [
    {
     "data": {
      "text/plain": [
       "set"
      ]
     },
     "execution_count": 44,
     "metadata": {},
     "output_type": "execute_result"
    }
   ],
   "source": [
    "type(x)"
   ]
  },
  {
   "cell_type": "code",
   "execution_count": 45,
   "id": "11fcfe63",
   "metadata": {},
   "outputs": [
    {
     "data": {
      "text/plain": [
       "set"
      ]
     },
     "execution_count": 45,
     "metadata": {},
     "output_type": "execute_result"
    }
   ],
   "source": [
    "type(y)"
   ]
  },
  {
   "cell_type": "code",
   "execution_count": 46,
   "id": "2c39cda2",
   "metadata": {},
   "outputs": [],
   "source": [
    "#let us find out difference between two sets"
   ]
  },
  {
   "cell_type": "code",
   "execution_count": 48,
   "id": "39170a53",
   "metadata": {},
   "outputs": [
    {
     "data": {
      "text/plain": [
       "{'learning', 'machine'}"
      ]
     },
     "execution_count": 48,
     "metadata": {},
     "output_type": "execute_result"
    }
   ],
   "source": [
    "x.difference(y)    #in x but not in y"
   ]
  },
  {
   "cell_type": "code",
   "execution_count": 49,
   "id": "683a445b",
   "metadata": {},
   "outputs": [
    {
     "data": {
      "text/plain": [
       "{3, 5, 'shar'}"
      ]
     },
     "execution_count": 49,
     "metadata": {},
     "output_type": "execute_result"
    }
   ],
   "source": [
    "s"
   ]
  },
  {
   "cell_type": "code",
   "execution_count": 50,
   "id": "5e408778",
   "metadata": {},
   "outputs": [],
   "source": [
    "#is it possible to extract data based on iteration or element\n"
   ]
  },
  {
   "cell_type": "code",
   "execution_count": 53,
   "id": "e8496001",
   "metadata": {},
   "outputs": [
    {
     "ename": "TypeError",
     "evalue": "'set' object is not subscriptable",
     "output_type": "error",
     "traceback": [
      "\u001b[1;31m---------------------------------------------------------------------------\u001b[0m",
      "\u001b[1;31mTypeError\u001b[0m                                 Traceback (most recent call last)",
      "\u001b[1;32m<ipython-input-53-d166fcba6cca>\u001b[0m in \u001b[0;36m<module>\u001b[1;34m\u001b[0m\n\u001b[1;32m----> 1\u001b[1;33m \u001b[0ms\u001b[0m\u001b[1;33m[\u001b[0m\u001b[1;36m0\u001b[0m\u001b[1;33m]\u001b[0m  \u001b[1;31m#indexing operations are not possible in case of set\u001b[0m\u001b[1;33m\u001b[0m\u001b[1;33m\u001b[0m\u001b[0m\n\u001b[0m",
      "\u001b[1;31mTypeError\u001b[0m: 'set' object is not subscriptable"
     ]
    }
   ],
   "source": [
    "s[0]  #indexing operations are not possible in case of set because set stores data in unorder way"
   ]
  },
  {
   "cell_type": "code",
   "execution_count": 54,
   "id": "0021eb6e",
   "metadata": {},
   "outputs": [
    {
     "name": "stdout",
     "output_type": "stream",
     "text": [
      "3\n",
      "5\n",
      "shar\n"
     ]
    }
   ],
   "source": [
    "for i in s:\n",
    "    print(i)"
   ]
  },
  {
   "cell_type": "code",
   "execution_count": 55,
   "id": "cd921831",
   "metadata": {},
   "outputs": [],
   "source": [
    "#to perfrom indexing operation we need to convert it to"
   ]
  },
  {
   "cell_type": "code",
   "execution_count": 56,
   "id": "5bebf4eb",
   "metadata": {},
   "outputs": [
    {
     "data": {
      "text/plain": [
       "(3, 5, 'shar')"
      ]
     },
     "execution_count": 56,
     "metadata": {},
     "output_type": "execute_result"
    }
   ],
   "source": [
    "tuple(s)"
   ]
  },
  {
   "cell_type": "code",
   "execution_count": 57,
   "id": "70a8a491",
   "metadata": {},
   "outputs": [
    {
     "data": {
      "text/plain": [
       "[3, 5, 'shar']"
      ]
     },
     "execution_count": 57,
     "metadata": {},
     "output_type": "execute_result"
    }
   ],
   "source": [
    "list(s)"
   ]
  },
  {
   "cell_type": "code",
   "execution_count": 59,
   "id": "acfb412a",
   "metadata": {},
   "outputs": [],
   "source": [
    "#Dictionary (colllection which  holds data in keyt and value pair)"
   ]
  },
  {
   "cell_type": "code",
   "execution_count": 60,
   "id": "e6854b50",
   "metadata": {},
   "outputs": [],
   "source": [
    "d = {}  #by default curly braces are considered as dictionary"
   ]
  },
  {
   "cell_type": "code",
   "execution_count": 61,
   "id": "da662e7b",
   "metadata": {},
   "outputs": [
    {
     "data": {
      "text/plain": [
       "dict"
      ]
     },
     "execution_count": 61,
     "metadata": {},
     "output_type": "execute_result"
    }
   ],
   "source": [
    "type(d)"
   ]
  },
  {
   "cell_type": "code",
   "execution_count": 62,
   "id": "ad1c514d",
   "metadata": {},
   "outputs": [
    {
     "data": {
      "text/plain": [
       "set"
      ]
     },
     "execution_count": 62,
     "metadata": {},
     "output_type": "execute_result"
    }
   ],
   "source": [
    "d = {4,5,6}\n",
    "type(d)"
   ]
  },
  {
   "cell_type": "code",
   "execution_count": 63,
   "id": "c0f4e3d9",
   "metadata": {},
   "outputs": [],
   "source": [
    "d = {\"key\":\"value\"}"
   ]
  },
  {
   "cell_type": "code",
   "execution_count": 64,
   "id": "9a39d5d5",
   "metadata": {},
   "outputs": [],
   "source": [
    "l=[0,1,2,3,4,5,6]"
   ]
  },
  {
   "cell_type": "code",
   "execution_count": 65,
   "id": "6c59ffe9",
   "metadata": {},
   "outputs": [
    {
     "data": {
      "text/plain": [
       "0"
      ]
     },
     "execution_count": 65,
     "metadata": {},
     "output_type": "execute_result"
    }
   ],
   "source": [
    "l[0] #indexes are created by its own"
   ]
  },
  {
   "cell_type": "code",
   "execution_count": 66,
   "id": "36d341d8",
   "metadata": {},
   "outputs": [],
   "source": [
    "d = {4:\"shar\", 5:\"kulkarni\", \"k1\":\"xyz\", \"k2\":[1,2,3,4,5], 6:(4,5,6,7,8)}"
   ]
  },
  {
   "cell_type": "code",
   "execution_count": 67,
   "id": "5b30b038",
   "metadata": {},
   "outputs": [
    {
     "ename": "SyntaxError",
     "evalue": "unexpected EOF while parsing (<ipython-input-67-53c6e1a87050>, line 1)",
     "output_type": "error",
     "traceback": [
      "\u001b[1;36m  File \u001b[1;32m\"<ipython-input-67-53c6e1a87050>\"\u001b[1;36m, line \u001b[1;32m1\u001b[0m\n\u001b[1;33m    d1 = {4:\"shar\", 5:\"kulkarni\", #:\"sfsfd\"}\u001b[0m\n\u001b[1;37m                                            ^\u001b[0m\n\u001b[1;31mSyntaxError\u001b[0m\u001b[1;31m:\u001b[0m unexpected EOF while parsing\n"
     ]
    }
   ],
   "source": [
    "d1 = {4:\"shar\", 5:\"kulkarni\", #:\"sfsfd\"}  ##key cannot be special case character"
   ]
  },
  {
   "cell_type": "code",
   "execution_count": 68,
   "id": "b465269c",
   "metadata": {},
   "outputs": [
    {
     "ename": "TypeError",
     "evalue": "unhashable type: 'list'",
     "output_type": "error",
     "traceback": [
      "\u001b[1;31m---------------------------------------------------------------------------\u001b[0m",
      "\u001b[1;31mTypeError\u001b[0m                                 Traceback (most recent call last)",
      "\u001b[1;32m<ipython-input-68-df7f89da05c7>\u001b[0m in \u001b[0;36m<module>\u001b[1;34m\u001b[0m\n\u001b[1;32m----> 1\u001b[1;33m \u001b[0md1\u001b[0m \u001b[1;33m=\u001b[0m \u001b[1;33m{\u001b[0m\u001b[1;36m4\u001b[0m\u001b[1;33m:\u001b[0m\u001b[1;34m\"shar\"\u001b[0m\u001b[1;33m,\u001b[0m \u001b[1;36m5\u001b[0m\u001b[1;33m:\u001b[0m\u001b[1;34m\"kulkarni\"\u001b[0m\u001b[1;33m,\u001b[0m \u001b[1;33m[\u001b[0m\u001b[1;36m1\u001b[0m\u001b[1;33m,\u001b[0m\u001b[1;36m2\u001b[0m\u001b[1;33m,\u001b[0m\u001b[1;36m3\u001b[0m\u001b[1;33m]\u001b[0m\u001b[1;33m:\u001b[0m\u001b[1;34m\"sfsfd\"\u001b[0m\u001b[1;33m}\u001b[0m\u001b[1;33m\u001b[0m\u001b[1;33m\u001b[0m\u001b[0m\n\u001b[0m",
      "\u001b[1;31mTypeError\u001b[0m: unhashable type: 'list'"
     ]
    }
   ],
   "source": [
    "d1 = {4:\"shar\", 5:\"kulkarni\", [1,2,3]:\"sfsfd\"}   ##key cannot be list"
   ]
  },
  {
   "cell_type": "code",
   "execution_count": 70,
   "id": "b0f79e08",
   "metadata": {},
   "outputs": [],
   "source": [
    "d1 = {4:\"shar\", 5:\"kulkarni\", (1,2,3):\"sfsfd\"}   #it works fine with tuple"
   ]
  },
  {
   "cell_type": "code",
   "execution_count": 71,
   "id": "3ed066de",
   "metadata": {},
   "outputs": [],
   "source": [
    "d1 = {4:\"shar\", 5:\"kulkarni\", _:\"sfsfd\"}  #it works fine with underscore bcz underscore is considered as a place holder\n"
   ]
  },
  {
   "cell_type": "code",
   "execution_count": 73,
   "id": "92cb4b28",
   "metadata": {},
   "outputs": [],
   "source": [
    "_ = 45"
   ]
  },
  {
   "cell_type": "code",
   "execution_count": 74,
   "id": "5fb079fe",
   "metadata": {},
   "outputs": [
    {
     "data": {
      "text/plain": [
       "int"
      ]
     },
     "execution_count": 74,
     "metadata": {},
     "output_type": "execute_result"
    }
   ],
   "source": [
    "type(_)"
   ]
  },
  {
   "cell_type": "code",
   "execution_count": 75,
   "id": "ce5de7c3",
   "metadata": {},
   "outputs": [
    {
     "ename": "TypeError",
     "evalue": "unhashable type: 'set'",
     "output_type": "error",
     "traceback": [
      "\u001b[1;31m---------------------------------------------------------------------------\u001b[0m",
      "\u001b[1;31mTypeError\u001b[0m                                 Traceback (most recent call last)",
      "\u001b[1;32m<ipython-input-75-51b6271bd185>\u001b[0m in \u001b[0;36m<module>\u001b[1;34m\u001b[0m\n\u001b[1;32m----> 1\u001b[1;33m \u001b[0md1\u001b[0m \u001b[1;33m=\u001b[0m \u001b[1;33m{\u001b[0m\u001b[1;36m4\u001b[0m\u001b[1;33m:\u001b[0m\u001b[1;34m\"shar\"\u001b[0m\u001b[1;33m,\u001b[0m \u001b[1;36m5\u001b[0m\u001b[1;33m:\u001b[0m\u001b[1;34m\"kulkarni\"\u001b[0m\u001b[1;33m,\u001b[0m \u001b[1;33m{\u001b[0m\u001b[1;36m3\u001b[0m\u001b[1;33m,\u001b[0m\u001b[1;36m4\u001b[0m\u001b[1;33m,\u001b[0m\u001b[1;36m5\u001b[0m\u001b[1;33m,\u001b[0m\u001b[1;36m6\u001b[0m\u001b[1;33m}\u001b[0m\u001b[1;33m:\u001b[0m\u001b[1;34m\"sfsfd\"\u001b[0m\u001b[1;33m}\u001b[0m\u001b[1;33m\u001b[0m\u001b[1;33m\u001b[0m\u001b[0m\n\u001b[0m",
      "\u001b[1;31mTypeError\u001b[0m: unhashable type: 'set'"
     ]
    }
   ],
   "source": [
    "d1 = {4:\"shar\", 5:\"kulkarni\", {3,4,5,6}:\"sfsfd\"}  #key cannot be set"
   ]
  },
  {
   "cell_type": "code",
   "execution_count": 76,
   "id": "480020bb",
   "metadata": {},
   "outputs": [],
   "source": [
    "##in case of key, mostly use int, string"
   ]
  },
  {
   "cell_type": "code",
   "execution_count": 78,
   "id": "7dd666fb",
   "metadata": {},
   "outputs": [],
   "source": [
    "d1 = {4:\"shar\", 5:\"kulkarni\", 4:\"sddsfdfg\"}   #repeating key"
   ]
  },
  {
   "cell_type": "code",
   "execution_count": 79,
   "id": "4a6b3a13",
   "metadata": {},
   "outputs": [
    {
     "data": {
      "text/plain": [
       "{4: 'sddsfdfg', 5: 'kulkarni'}"
      ]
     },
     "execution_count": 79,
     "metadata": {},
     "output_type": "execute_result"
    }
   ],
   "source": [
    "d1"
   ]
  },
  {
   "cell_type": "code",
   "execution_count": 80,
   "id": "0ef376f5",
   "metadata": {},
   "outputs": [],
   "source": [
    "#dictionary key holds one property and that propert is called as uniqueness \n",
    "#if the key is repeating then it will update the new value"
   ]
  },
  {
   "cell_type": "code",
   "execution_count": 83,
   "id": "8018fb60",
   "metadata": {},
   "outputs": [],
   "source": [
    "d2 = {1:\"shardul\", 2: \"Kulkarni\", 3: [\"ML\", \"Dl\", \"OOPS\", \"Exception\"], 4: \"shardul\"}"
   ]
  },
  {
   "cell_type": "code",
   "execution_count": 84,
   "id": "d6cef535",
   "metadata": {},
   "outputs": [
    {
     "data": {
      "text/plain": [
       "{1: 'shardul',\n",
       " 2: 'Kulkarni',\n",
       " 3: ['ML', 'Dl', 'OOPS', 'Exception'],\n",
       " 4: 'shardul'}"
      ]
     },
     "execution_count": 84,
     "metadata": {},
     "output_type": "execute_result"
    }
   ],
   "source": [
    "d2"
   ]
  },
  {
   "cell_type": "code",
   "execution_count": 85,
   "id": "e242dafb",
   "metadata": {},
   "outputs": [],
   "source": [
    "#accessinbg values"
   ]
  },
  {
   "cell_type": "code",
   "execution_count": 86,
   "id": "8c89db73",
   "metadata": {},
   "outputs": [
    {
     "data": {
      "text/plain": [
       "'shardul'"
      ]
     },
     "execution_count": 86,
     "metadata": {},
     "output_type": "execute_result"
    }
   ],
   "source": [
    "d2[1] #using keys"
   ]
  },
  {
   "cell_type": "code",
   "execution_count": 87,
   "id": "ff9f2cf7",
   "metadata": {},
   "outputs": [
    {
     "data": {
      "text/plain": [
       "['ML', 'Dl', 'OOPS', 'Exception']"
      ]
     },
     "execution_count": 87,
     "metadata": {},
     "output_type": "execute_result"
    }
   ],
   "source": [
    "d2[3]"
   ]
  },
  {
   "cell_type": "code",
   "execution_count": 91,
   "id": "1a786d7d",
   "metadata": {},
   "outputs": [],
   "source": [
    "d = {4:\"shar\", 5:\"kulkarni\", \"k1\":\"xyz\",(1,2,3):\"hi\", \"k2\":[1,2,3,4,5], 6:(4,5,6,7,8)}"
   ]
  },
  {
   "cell_type": "code",
   "execution_count": 89,
   "id": "28a6be8e",
   "metadata": {},
   "outputs": [
    {
     "data": {
      "text/plain": [
       "'xyz'"
      ]
     },
     "execution_count": 89,
     "metadata": {},
     "output_type": "execute_result"
    }
   ],
   "source": [
    "d[\"k1\"]"
   ]
  },
  {
   "cell_type": "code",
   "execution_count": 92,
   "id": "82e9c3ef",
   "metadata": {},
   "outputs": [
    {
     "data": {
      "text/plain": [
       "'hi'"
      ]
     },
     "execution_count": 92,
     "metadata": {},
     "output_type": "execute_result"
    }
   ],
   "source": [
    "d[(1,2,3)]"
   ]
  },
  {
   "cell_type": "code",
   "execution_count": 93,
   "id": "c76f58b4",
   "metadata": {},
   "outputs": [],
   "source": [
    "#dictionary inside a dictionary"
   ]
  },
  {
   "cell_type": "code",
   "execution_count": 94,
   "id": "ed8f6697",
   "metadata": {},
   "outputs": [],
   "source": [
    "d = {\"k1\":\"ineuron\", \"k2\":\"ineuron\", 'k3':{1:\"shar\", 2:\"kulkarni\", 3:\"xyz\"}}"
   ]
  },
  {
   "cell_type": "code",
   "execution_count": 95,
   "id": "d85b2aef",
   "metadata": {},
   "outputs": [],
   "source": [
    "#fetch xyz from the given dictionary"
   ]
  },
  {
   "cell_type": "code",
   "execution_count": 100,
   "id": "07554702",
   "metadata": {},
   "outputs": [
    {
     "data": {
      "text/plain": [
       "'xyz'"
      ]
     },
     "execution_count": 100,
     "metadata": {},
     "output_type": "execute_result"
    }
   ],
   "source": [
    "d[\"k3\"][3]"
   ]
  },
  {
   "cell_type": "code",
   "execution_count": 101,
   "id": "f2fd3bb8",
   "metadata": {},
   "outputs": [],
   "source": [
    "#add more key and values to the same dictionary d"
   ]
  },
  {
   "cell_type": "code",
   "execution_count": 102,
   "id": "5f9f4eca",
   "metadata": {},
   "outputs": [],
   "source": [
    "d[\"k4\"] = 345"
   ]
  },
  {
   "cell_type": "code",
   "execution_count": 103,
   "id": "dcae55ba",
   "metadata": {},
   "outputs": [
    {
     "data": {
      "text/plain": [
       "{'k1': 'ineuron',\n",
       " 'k2': 'ineuron',\n",
       " 'k3': {1: 'shar', 2: 'kulkarni', 3: 'xyz'},\n",
       " 'k4': 345}"
      ]
     },
     "execution_count": 103,
     "metadata": {},
     "output_type": "execute_result"
    }
   ],
   "source": [
    "d"
   ]
  },
  {
   "cell_type": "code",
   "execution_count": 106,
   "id": "56f12acb",
   "metadata": {},
   "outputs": [],
   "source": [
    "d[\"k1\"] = \"hi hello\"  #replcaed value with key k1"
   ]
  },
  {
   "cell_type": "code",
   "execution_count": 107,
   "id": "4fbde464",
   "metadata": {},
   "outputs": [
    {
     "data": {
      "text/plain": [
       "{'k1': 'hi hello',\n",
       " 'k2': 'ineuron',\n",
       " 'k3': {1: 'shar', 2: 'kulkarni', 3: 'xyz'},\n",
       " 'k4': 345}"
      ]
     },
     "execution_count": 107,
     "metadata": {},
     "output_type": "execute_result"
    }
   ],
   "source": [
    "d"
   ]
  },
  {
   "cell_type": "code",
   "execution_count": 108,
   "id": "5190a5cf",
   "metadata": {},
   "outputs": [],
   "source": [
    "#iterate over the dictionary"
   ]
  },
  {
   "cell_type": "code",
   "execution_count": 109,
   "id": "fe1754d7",
   "metadata": {},
   "outputs": [
    {
     "name": "stdout",
     "output_type": "stream",
     "text": [
      "k1\n",
      "k2\n",
      "k3\n",
      "k4\n"
     ]
    }
   ],
   "source": [
    "for i in d:\n",
    "    print(i)   #it only prints key"
   ]
  },
  {
   "cell_type": "code",
   "execution_count": 110,
   "id": "e54d8a25",
   "metadata": {},
   "outputs": [
    {
     "data": {
      "text/plain": [
       "dict_keys(['k1', 'k2', 'k3', 'k4'])"
      ]
     },
     "execution_count": 110,
     "metadata": {},
     "output_type": "execute_result"
    }
   ],
   "source": [
    "#inbuilt funtions\n",
    "d.keys()"
   ]
  },
  {
   "cell_type": "code",
   "execution_count": 111,
   "id": "eafd24ce",
   "metadata": {},
   "outputs": [
    {
     "data": {
      "text/plain": [
       "dict_values(['hi hello', 'ineuron', {1: 'shar', 2: 'kulkarni', 3: 'xyz'}, 345])"
      ]
     },
     "execution_count": 111,
     "metadata": {},
     "output_type": "execute_result"
    }
   ],
   "source": [
    "d.values()"
   ]
  },
  {
   "cell_type": "code",
   "execution_count": 112,
   "id": "112f9c61",
   "metadata": {},
   "outputs": [
    {
     "data": {
      "text/plain": [
       "dict_items([('k1', 'hi hello'), ('k2', 'ineuron'), ('k3', {1: 'shar', 2: 'kulkarni', 3: 'xyz'}), ('k4', 345)])"
      ]
     },
     "execution_count": 112,
     "metadata": {},
     "output_type": "execute_result"
    }
   ],
   "source": [
    "d.items()  #to fetch both key and value"
   ]
  },
  {
   "cell_type": "code",
   "execution_count": 114,
   "id": "4e0f52bb",
   "metadata": {},
   "outputs": [
    {
     "data": {
      "text/plain": [
       "'k2'"
      ]
     },
     "execution_count": 114,
     "metadata": {},
     "output_type": "execute_result"
    }
   ],
   "source": [
    "list(d.keys())[1]"
   ]
  },
  {
   "cell_type": "code",
   "execution_count": 115,
   "id": "5503b374",
   "metadata": {},
   "outputs": [],
   "source": [
    "#try to check entire dictionary, try to find out if value is available in the form of dictionary and fetch values"
   ]
  },
  {
   "cell_type": "code",
   "execution_count": 116,
   "id": "b73a6b9a",
   "metadata": {},
   "outputs": [
    {
     "name": "stdout",
     "output_type": "stream",
     "text": [
      "{1: 'shar', 2: 'kulkarni', 3: 'xyz'}\n"
     ]
    }
   ],
   "source": [
    "for i in d.keys():\n",
    "    if type(d[i]) ==  dict:\n",
    "        print(d[i])"
   ]
  },
  {
   "cell_type": "code",
   "execution_count": 117,
   "id": "3f57ab62",
   "metadata": {},
   "outputs": [],
   "source": [
    "#try to cretae a key value pair  where key is int and value is square of a key for range in 0 to 10"
   ]
  },
  {
   "cell_type": "code",
   "execution_count": 118,
   "id": "83a8a1ba",
   "metadata": {},
   "outputs": [],
   "source": [
    "d = {}\n",
    "for i in range(0,11):\n",
    "    d[i] = i**2"
   ]
  },
  {
   "cell_type": "code",
   "execution_count": 119,
   "id": "2c0c900d",
   "metadata": {},
   "outputs": [
    {
     "data": {
      "text/plain": [
       "{0: 0, 1: 1, 2: 4, 3: 9, 4: 16, 5: 25, 6: 36, 7: 49, 8: 64, 9: 81, 10: 100}"
      ]
     },
     "execution_count": 119,
     "metadata": {},
     "output_type": "execute_result"
    }
   ],
   "source": [
    "d"
   ]
  },
  {
   "cell_type": "code",
   "execution_count": 120,
   "id": "d5ba5dca",
   "metadata": {},
   "outputs": [],
   "source": [
    "#write the same code in single line of code"
   ]
  },
  {
   "cell_type": "code",
   "execution_count": 121,
   "id": "a255160e",
   "metadata": {},
   "outputs": [],
   "source": [
    "#dictionary comprehension"
   ]
  },
  {
   "cell_type": "code",
   "execution_count": 122,
   "id": "5126fc2e",
   "metadata": {},
   "outputs": [
    {
     "data": {
      "text/plain": [
       "{0: 0, 1: 1, 2: 4, 3: 9, 4: 16, 5: 25, 6: 36, 7: 49, 8: 64, 9: 81, 10: 100}"
      ]
     },
     "execution_count": 122,
     "metadata": {},
     "output_type": "execute_result"
    }
   ],
   "source": [
    "{i:i**2 for i in range(11)}"
   ]
  },
  {
   "cell_type": "code",
   "execution_count": 123,
   "id": "08f9b6e9",
   "metadata": {},
   "outputs": [],
   "source": [
    "s = \"ineuron\"\n",
    "#create a dictionary where each and every character will be key and its value will be ineuron"
   ]
  },
  {
   "cell_type": "code",
   "execution_count": 126,
   "id": "aaa3a8ee",
   "metadata": {},
   "outputs": [
    {
     "data": {
      "text/plain": [
       "{'i': 'ineuron',\n",
       " 'n': 'ineuron',\n",
       " 'e': 'ineuron',\n",
       " 'u': 'ineuron',\n",
       " 'r': 'ineuron',\n",
       " 'o': 'ineuron'}"
      ]
     },
     "execution_count": 126,
     "metadata": {},
     "output_type": "execute_result"
    }
   ],
   "source": [
    "{s[i]:s for i in range(len(s))}"
   ]
  },
  {
   "cell_type": "code",
   "execution_count": 148,
   "id": "ded8b139",
   "metadata": {},
   "outputs": [],
   "source": [
    "d = {\"ineuron\": {\"a\":23, \"b\": 34, \"c\":56}, \"course\":{\"d\":45, \"e\":12}, \"str\":65}\n",
    "#print the max value present in the entire dictionary                                                   "
   ]
  },
  {
   "cell_type": "code",
   "execution_count": 149,
   "id": "df86f0b8",
   "metadata": {},
   "outputs": [
    {
     "data": {
      "text/plain": [
       "65"
      ]
     },
     "execution_count": 149,
     "metadata": {},
     "output_type": "execute_result"
    }
   ],
   "source": [
    "max = 0\n",
    "# lst = list()\n",
    "for k,v in d.items():\n",
    "    if type(v) == dict:\n",
    "        for i in v.values():\n",
    "            if i > max:\n",
    "                max = i\n",
    "    else:\n",
    "        v>max\n",
    "        max = v\n",
    "max\n",
    "        "
   ]
  },
  {
   "cell_type": "code",
   "execution_count": 150,
   "id": "c45e1674",
   "metadata": {},
   "outputs": [],
   "source": [
    "#what if we add floating pt no, list, tuple, set, ladder of dictionary(write this as a generic code)"
   ]
  },
  {
   "cell_type": "code",
   "execution_count": null,
   "id": "dfb7778d",
   "metadata": {},
   "outputs": [],
   "source": []
  }
 ],
 "metadata": {
  "kernelspec": {
   "display_name": "Python 3",
   "language": "python",
   "name": "python3"
  },
  "language_info": {
   "codemirror_mode": {
    "name": "ipython",
    "version": 3
   },
   "file_extension": ".py",
   "mimetype": "text/x-python",
   "name": "python",
   "nbconvert_exporter": "python",
   "pygments_lexer": "ipython3",
   "version": "3.8.10"
  }
 },
 "nbformat": 4,
 "nbformat_minor": 5
}
