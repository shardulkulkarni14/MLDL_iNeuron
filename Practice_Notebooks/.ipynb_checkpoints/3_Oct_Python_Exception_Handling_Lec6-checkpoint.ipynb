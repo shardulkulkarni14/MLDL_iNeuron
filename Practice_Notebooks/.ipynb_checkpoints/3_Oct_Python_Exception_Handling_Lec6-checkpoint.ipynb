{
 "cells": [
  {
   "cell_type": "code",
   "execution_count": 1,
   "id": "026236e7",
   "metadata": {},
   "outputs": [
    {
     "ename": "NameError",
     "evalue": "name 'dsasadssds' is not defined",
     "output_type": "error",
     "traceback": [
      "\u001b[1;31m---------------------------------------------------------------------------\u001b[0m",
      "\u001b[1;31mNameError\u001b[0m                                 Traceback (most recent call last)",
      "\u001b[1;32m<ipython-input-1-052f7cc6cc12>\u001b[0m in \u001b[0;36m<module>\u001b[1;34m\u001b[0m\n\u001b[1;32m----> 1\u001b[1;33m \u001b[0mdsasadssds\u001b[0m\u001b[1;33m\u001b[0m\u001b[1;33m\u001b[0m\u001b[0m\n\u001b[0m",
      "\u001b[1;31mNameError\u001b[0m: name 'dsasadssds' is not defined"
     ]
    }
   ],
   "source": [
    "dsasadssds  #here i have made syntactical mistake i.e. I didn't put the sting in a double or single coat"
   ]
  },
  {
   "cell_type": "code",
   "execution_count": 4,
   "id": "48784514",
   "metadata": {
    "scrolled": true
   },
   "outputs": [
    {
     "ename": "ZeroDivisionError",
     "evalue": "division by zero",
     "output_type": "error",
     "traceback": [
      "\u001b[1;31m---------------------------------------------------------------------------\u001b[0m",
      "\u001b[1;31mZeroDivisionError\u001b[0m                         Traceback (most recent call last)",
      "\u001b[1;32m<ipython-input-4-d6b24bae8dbf>\u001b[0m in \u001b[0;36m<module>\u001b[1;34m\u001b[0m\n\u001b[1;32m----> 1\u001b[1;33m \u001b[1;36m1\u001b[0m\u001b[1;33m/\u001b[0m\u001b[1;36m0\u001b[0m\u001b[1;33m\u001b[0m\u001b[1;33m\u001b[0m\u001b[0m\n\u001b[0m\u001b[0;32m      2\u001b[0m \u001b[1;31m#but here I have not made any syntactical mistake but even then I am encountering error\u001b[0m\u001b[1;33m\u001b[0m\u001b[1;33m\u001b[0m\u001b[1;33m\u001b[0m\u001b[0m\n\u001b[0;32m      3\u001b[0m \u001b[1;31m#But in case of numpy this is not an error as, it gives output as \"inf\"(Keyword in Numpy package)\u001b[0m\u001b[1;33m\u001b[0m\u001b[1;33m\u001b[0m\u001b[1;33m\u001b[0m\u001b[0m\n\u001b[0;32m      4\u001b[0m \u001b[0mprint\u001b[0m\u001b[1;33m(\u001b[0m\u001b[1;34m\"This is my program\"\u001b[0m\u001b[1;33m)\u001b[0m\u001b[1;33m\u001b[0m\u001b[1;33m\u001b[0m\u001b[0m\n",
      "\u001b[1;31mZeroDivisionError\u001b[0m: division by zero"
     ]
    }
   ],
   "source": [
    "1/0   \n",
    "#but here I have not made any syntactical mistake but even then I am encountering error\n",
    "#But in case of numpy this is not an error as, it gives output as \"inf\"(Keyword in Numpy package)\n",
    "print(\"This is my program\")"
   ]
  },
  {
   "cell_type": "code",
   "execution_count": 5,
   "id": "6d0378a2",
   "metadata": {},
   "outputs": [],
   "source": [
    "#Search for exception handling wikipedia on Google and read a case study"
   ]
  },
  {
   "cell_type": "code",
   "execution_count": 6,
   "id": "baeab10a",
   "metadata": {},
   "outputs": [],
   "source": [
    "#Even if there is a error in a program at some point of line then our code should be capable of handling thodse errors and executing all the remaining code"
   ]
  },
  {
   "cell_type": "code",
   "execution_count": 7,
   "id": "096b501f",
   "metadata": {},
   "outputs": [],
   "source": [
    "#Exception Handling is a kind of error which we get at Run-time"
   ]
  },
  {
   "cell_type": "code",
   "execution_count": 8,
   "id": "2ed7ff6a",
   "metadata": {},
   "outputs": [],
   "source": [
    "# we will discuss try - except and else, finally"
   ]
  },
  {
   "cell_type": "code",
   "execution_count": 11,
   "id": "f7cea0d0",
   "metadata": {},
   "outputs": [
    {
     "name": "stdout",
     "output_type": "stream",
     "text": [
      "division by zero\n"
     ]
    }
   ],
   "source": [
    "try:\n",
    "    1/0\n",
    "except Exception as e:\n",
    "    print(e)\n",
    "    "
   ]
  },
  {
   "cell_type": "code",
   "execution_count": 12,
   "id": "acddf65b",
   "metadata": {},
   "outputs": [
    {
     "name": "stdout",
     "output_type": "stream",
     "text": [
      "division by zero\n",
      "this is my program\n"
     ]
    }
   ],
   "source": [
    "try:\n",
    "    1/0\n",
    "except Exception as e:\n",
    "    print(e)\n",
    "print(\"this is my program\")"
   ]
  },
  {
   "cell_type": "code",
   "execution_count": 13,
   "id": "0c06f81f",
   "metadata": {},
   "outputs": [],
   "source": [
    " #write the complete code inside a try block\n",
    "    #try always throws an exception and except block handles it\n",
    "    #Exception is a super class which contains all the exceptions"
   ]
  },
  {
   "cell_type": "code",
   "execution_count": 14,
   "id": "07fc413b",
   "metadata": {},
   "outputs": [
    {
     "ename": "SyntaxError",
     "evalue": "unexpected EOF while parsing (<ipython-input-14-63e33ded0860>, line 6)",
     "output_type": "error",
     "traceback": [
      "\u001b[1;36m  File \u001b[1;32m\"<ipython-input-14-63e33ded0860>\"\u001b[1;36m, line \u001b[1;32m6\u001b[0m\n\u001b[1;33m    print(\"this is my program\")\u001b[0m\n\u001b[1;37m                               ^\u001b[0m\n\u001b[1;31mSyntaxError\u001b[0m\u001b[1;31m:\u001b[0m unexpected EOF while parsing\n"
     ]
    }
   ],
   "source": [
    "try:\n",
    "    1/0\n",
    "except Exception as e:\n",
    "    print(e)\n",
    "try:\n",
    "    print(\"this is my program\")\n",
    "    #there is no except so we have encountered with syntacticall error"
   ]
  },
  {
   "cell_type": "code",
   "execution_count": 16,
   "id": "196939c6",
   "metadata": {},
   "outputs": [
    {
     "name": "stdout",
     "output_type": "stream",
     "text": [
      "sdafsdfsdf\n",
      "this is my program\n"
     ]
    }
   ],
   "source": [
    "try:\n",
    "    1/0\n",
    "except Exception as e:\n",
    "    print(\"sdafsdfsdf\")\n",
    "try:\n",
    "    print(\"this is my program\")\n",
    "except:\n",
    "    print(\"shar\")"
   ]
  },
  {
   "cell_type": "code",
   "execution_count": 17,
   "id": "3880f09d",
   "metadata": {},
   "outputs": [
    {
     "ename": "FileNotFoundError",
     "evalue": "[Errno 2] No such file or directory: 'test.txt'",
     "output_type": "error",
     "traceback": [
      "\u001b[1;31m---------------------------------------------------------------------------\u001b[0m",
      "\u001b[1;31mFileNotFoundError\u001b[0m                         Traceback (most recent call last)",
      "\u001b[1;32m<ipython-input-17-8fc28bae4941>\u001b[0m in \u001b[0;36m<module>\u001b[1;34m\u001b[0m\n\u001b[1;32m----> 1\u001b[1;33m \u001b[0mopen\u001b[0m\u001b[1;33m(\u001b[0m\u001b[1;34m\"test.txt\"\u001b[0m\u001b[1;33m)\u001b[0m\u001b[1;33m\u001b[0m\u001b[1;33m\u001b[0m\u001b[0m\n\u001b[0m",
      "\u001b[1;31mFileNotFoundError\u001b[0m: [Errno 2] No such file or directory: 'test.txt'"
     ]
    }
   ],
   "source": [
    "open(\"test.txt\")"
   ]
  },
  {
   "cell_type": "code",
   "execution_count": 18,
   "id": "2d99929b",
   "metadata": {},
   "outputs": [
    {
     "data": {
      "text/plain": [
       "'E:\\\\ML_DL_Ineuron\\\\Assignments\\\\Practice_Notebooks'"
      ]
     },
     "execution_count": 18,
     "metadata": {},
     "output_type": "execute_result"
    }
   ],
   "source": [
    "pwd()"
   ]
  },
  {
   "cell_type": "code",
   "execution_count": 20,
   "id": "adfb4708",
   "metadata": {},
   "outputs": [
    {
     "data": {
      "text/plain": [
       "<_io.TextIOWrapper name='test.txt' mode='w' encoding='cp1252'>"
      ]
     },
     "execution_count": 20,
     "metadata": {},
     "output_type": "execute_result"
    }
   ],
   "source": [
    "open(\"test.txt\", \"w\")  #in write mode even if the file is not present then it creates a new file"
   ]
  },
  {
   "cell_type": "code",
   "execution_count": 22,
   "id": "375c73a8",
   "metadata": {},
   "outputs": [
    {
     "ename": "UnsupportedOperation",
     "evalue": "not writable",
     "output_type": "error",
     "traceback": [
      "\u001b[1;31m---------------------------------------------------------------------------\u001b[0m",
      "\u001b[1;31mUnsupportedOperation\u001b[0m                      Traceback (most recent call last)",
      "\u001b[1;32m<ipython-input-22-3ebbf994b27e>\u001b[0m in \u001b[0;36m<module>\u001b[1;34m\u001b[0m\n\u001b[0;32m      1\u001b[0m \u001b[0mf\u001b[0m \u001b[1;33m=\u001b[0m \u001b[0mopen\u001b[0m\u001b[1;33m(\u001b[0m\u001b[1;34m\"test.txt\"\u001b[0m\u001b[1;33m,\u001b[0m \u001b[1;34m\"r\"\u001b[0m\u001b[1;33m)\u001b[0m\u001b[1;33m\u001b[0m\u001b[1;33m\u001b[0m\u001b[0m\n\u001b[1;32m----> 2\u001b[1;33m \u001b[0mf\u001b[0m\u001b[1;33m.\u001b[0m\u001b[0mwrite\u001b[0m\u001b[1;33m(\u001b[0m\u001b[1;34m\"This is my first file\"\u001b[0m\u001b[1;33m)\u001b[0m \u001b[1;31m#because we opened a file in read mode\u001b[0m\u001b[1;33m\u001b[0m\u001b[1;33m\u001b[0m\u001b[0m\n\u001b[0m",
      "\u001b[1;31mUnsupportedOperation\u001b[0m: not writable"
     ]
    }
   ],
   "source": [
    "f = open(\"test.txt\", \"r\")\n",
    "f.write(\"This is my first file\") #because we opened a file in read mode"
   ]
  },
  {
   "cell_type": "code",
   "execution_count": 24,
   "id": "7f8deeae",
   "metadata": {},
   "outputs": [
    {
     "data": {
      "text/plain": [
       "21"
      ]
     },
     "execution_count": 24,
     "metadata": {},
     "output_type": "execute_result"
    }
   ],
   "source": [
    "f = open(\"test.txt\", \"w\")\n",
    "f.write(\"This is my first file\") #returns the pointer location i.e 21 in our case"
   ]
  },
  {
   "cell_type": "code",
   "execution_count": 25,
   "id": "f75cd2ed",
   "metadata": {},
   "outputs": [
    {
     "name": "stdout",
     "output_type": "stream",
     "text": [
      "not writable\n"
     ]
    }
   ],
   "source": [
    "try:\n",
    "    f = open(\"test.txt\", \"r\")\n",
    "    f.write(\"This is my first file\")\n",
    "except Exception as e:\n",
    "    print(e)"
   ]
  },
  {
   "cell_type": "code",
   "execution_count": 28,
   "id": "7799e9da",
   "metadata": {},
   "outputs": [
    {
     "ename": "UnsupportedOperation",
     "evalue": "not writable",
     "output_type": "error",
     "traceback": [
      "\u001b[1;31m---------------------------------------------------------------------------\u001b[0m",
      "\u001b[1;31mUnsupportedOperation\u001b[0m                      Traceback (most recent call last)",
      "\u001b[1;32m<ipython-input-28-919eb095938d>\u001b[0m in \u001b[0;36m<module>\u001b[1;34m\u001b[0m\n\u001b[0;32m      2\u001b[0m \u001b[1;32mtry\u001b[0m\u001b[1;33m:\u001b[0m\u001b[1;33m\u001b[0m\u001b[1;33m\u001b[0m\u001b[0m\n\u001b[0;32m      3\u001b[0m     \u001b[0mf\u001b[0m \u001b[1;33m=\u001b[0m \u001b[0mopen\u001b[0m\u001b[1;33m(\u001b[0m\u001b[1;34m\"test.txt\"\u001b[0m\u001b[1;33m,\u001b[0m \u001b[1;34m\"r\"\u001b[0m\u001b[1;33m)\u001b[0m\u001b[1;33m\u001b[0m\u001b[1;33m\u001b[0m\u001b[0m\n\u001b[1;32m----> 4\u001b[1;33m     \u001b[0mf\u001b[0m\u001b[1;33m.\u001b[0m\u001b[0mwrite\u001b[0m\u001b[1;33m(\u001b[0m\u001b[1;34m\"This is my first file\"\u001b[0m\u001b[1;33m)\u001b[0m\u001b[1;33m\u001b[0m\u001b[1;33m\u001b[0m\u001b[0m\n\u001b[0m\u001b[0;32m      5\u001b[0m \u001b[1;32mexcept\u001b[0m \u001b[0mZeroDivisionError\u001b[0m \u001b[1;32mas\u001b[0m \u001b[0me\u001b[0m\u001b[1;33m:\u001b[0m\u001b[1;33m\u001b[0m\u001b[1;33m\u001b[0m\u001b[0m\n\u001b[0;32m      6\u001b[0m     \u001b[0mprint\u001b[0m\u001b[1;33m(\u001b[0m\u001b[0me\u001b[0m\u001b[1;33m)\u001b[0m\u001b[1;33m\u001b[0m\u001b[1;33m\u001b[0m\u001b[0m\n",
      "\u001b[1;31mUnsupportedOperation\u001b[0m: not writable"
     ]
    }
   ],
   "source": [
    "#to handle specific error\n",
    "try:\n",
    "    f = open(\"test.txt\", \"r\")\n",
    "    f.write(\"This is my first file\")\n",
    "except ZeroDivisionError as e:\n",
    "    print(e)"
   ]
  },
  {
   "cell_type": "code",
   "execution_count": 29,
   "id": "1ca708d3",
   "metadata": {},
   "outputs": [],
   "source": [
    "#Mention a specific error to avoid the above problem instead you can write a parent class"
   ]
  },
  {
   "cell_type": "code",
   "execution_count": 30,
   "id": "a5372427",
   "metadata": {},
   "outputs": [
    {
     "name": "stdout",
     "output_type": "stream",
     "text": [
      "not writable\n"
     ]
    }
   ],
   "source": [
    "#to handle specific error\n",
    "try:\n",
    "    f = open(\"test.txt\", \"r\")\n",
    "    f.write(\"This is my first file\")\n",
    "except IOError as e:\n",
    "    print(e)"
   ]
  },
  {
   "cell_type": "code",
   "execution_count": 31,
   "id": "c2264d95",
   "metadata": {},
   "outputs": [],
   "source": [
    "#if we are not clear about what kind of error we are going to encounter"
   ]
  },
  {
   "cell_type": "code",
   "execution_count": 33,
   "id": "723e6d8e",
   "metadata": {},
   "outputs": [
    {
     "name": "stdout",
     "output_type": "stream",
     "text": [
      "not writable\n"
     ]
    }
   ],
   "source": [
    "#to handle specific error\n",
    "try:\n",
    "    f = open(\"test.txt\", \"r\")\n",
    "    f.write(\"This is my first file\")\n",
    "    a = 10/0   #not going to execute this line as error is encountered on the previous line\n",
    "except IOError as e:\n",
    "    print(e)"
   ]
  },
  {
   "cell_type": "code",
   "execution_count": 34,
   "id": "86d35220",
   "metadata": {},
   "outputs": [
    {
     "ename": "ZeroDivisionError",
     "evalue": "division by zero",
     "output_type": "error",
     "traceback": [
      "\u001b[1;31m---------------------------------------------------------------------------\u001b[0m",
      "\u001b[1;31mZeroDivisionError\u001b[0m                         Traceback (most recent call last)",
      "\u001b[1;32m<ipython-input-34-ac77d6560965>\u001b[0m in \u001b[0;36m<module>\u001b[1;34m\u001b[0m\n\u001b[0;32m      2\u001b[0m \u001b[1;32mtry\u001b[0m\u001b[1;33m:\u001b[0m\u001b[1;33m\u001b[0m\u001b[1;33m\u001b[0m\u001b[0m\n\u001b[0;32m      3\u001b[0m     \u001b[0mf\u001b[0m \u001b[1;33m=\u001b[0m \u001b[0mopen\u001b[0m\u001b[1;33m(\u001b[0m\u001b[1;34m\"test.txt\"\u001b[0m\u001b[1;33m,\u001b[0m \u001b[1;34m\"r\"\u001b[0m\u001b[1;33m)\u001b[0m\u001b[1;33m\u001b[0m\u001b[1;33m\u001b[0m\u001b[0m\n\u001b[1;32m----> 4\u001b[1;33m     \u001b[0ma\u001b[0m \u001b[1;33m=\u001b[0m \u001b[1;36m10\u001b[0m\u001b[1;33m/\u001b[0m\u001b[1;36m0\u001b[0m\u001b[1;33m\u001b[0m\u001b[1;33m\u001b[0m\u001b[0m\n\u001b[0m\u001b[0;32m      5\u001b[0m     \u001b[0mf\u001b[0m\u001b[1;33m.\u001b[0m\u001b[0mwrite\u001b[0m\u001b[1;33m(\u001b[0m\u001b[1;34m\"This is my first file\"\u001b[0m\u001b[1;33m)\u001b[0m\u001b[1;33m\u001b[0m\u001b[1;33m\u001b[0m\u001b[0m\n\u001b[0;32m      6\u001b[0m \u001b[1;32mexcept\u001b[0m \u001b[0mIOError\u001b[0m \u001b[1;32mas\u001b[0m \u001b[0me\u001b[0m\u001b[1;33m:\u001b[0m\u001b[1;33m\u001b[0m\u001b[1;33m\u001b[0m\u001b[0m\n",
      "\u001b[1;31mZeroDivisionError\u001b[0m: division by zero"
     ]
    }
   ],
   "source": [
    "#to handle specific error\n",
    "try:\n",
    "    f = open(\"test.txt\", \"r\")\n",
    "    a = 10/0\n",
    "    f.write(\"This is my first file\")\n",
    "except IOError as e:\n",
    "    print(e)\n",
    "#encounter different error from the one which we are hancling"
   ]
  },
  {
   "cell_type": "code",
   "execution_count": 37,
   "id": "947c77a3",
   "metadata": {},
   "outputs": [
    {
     "name": "stdout",
     "output_type": "stream",
     "text": [
      "division by zero\n"
     ]
    }
   ],
   "source": [
    "try:\n",
    "    f = open(\"test.txt\", \"r\")\n",
    "    a = 10/0\n",
    "    f.write(\"This is my first file\")\n",
    "except IOError as e:\n",
    "    print(e)\n",
    "except ZeroDivisionError as e:\n",
    "    print(e)\n",
    "#one try block can have many except blocks"
   ]
  },
  {
   "cell_type": "code",
   "execution_count": 2,
   "id": "84ae1686",
   "metadata": {},
   "outputs": [
    {
     "name": "stdout",
     "output_type": "stream",
     "text": [
      "This is my except with Exception: division by zero\n"
     ]
    }
   ],
   "source": [
    "try:\n",
    "    f = open(\"test.txt\", \"r\")\n",
    "    a = 10/0\n",
    "    f.write(\"This is my first file\")\n",
    "except Exception as e:\n",
    "    print(\"This is my except with Exception:\", e)\n",
    "except IOError as e:\n",
    "    print(e)\n",
    "except ZeroDivisionError as e:\n",
    "    print(e)\n",
    "#line no  6 is executed"
   ]
  },
  {
   "cell_type": "code",
   "execution_count": 6,
   "id": "f2f14efc",
   "metadata": {},
   "outputs": [
    {
     "name": "stdout",
     "output_type": "stream",
     "text": [
      "awsdf division by zero\n"
     ]
    }
   ],
   "source": [
    "try:\n",
    "    f = open(\"test.txt\", \"r\")\n",
    "    a = 10/0\n",
    "    f.write(\"This is my first file\")\n",
    "\n",
    "except IOError as e:\n",
    "    print(e)\n",
    "except ZeroDivisionError as e:\n",
    "    print(\"awsdf\",e)\n",
    "except Exception as e:\n",
    "    print(\"This is my except with Exception:\", e)\n",
    "#line no 9 is executed"
   ]
  },
  {
   "cell_type": "code",
   "execution_count": 8,
   "id": "f42f02ab",
   "metadata": {},
   "outputs": [
    {
     "name": "stdout",
     "output_type": "stream",
     "text": [
      "There is an issue\n"
     ]
    }
   ],
   "source": [
    "#nested try\n",
    "\n",
    "try:\n",
    "    a = 10/3\n",
    "    try:\n",
    "        f = open(\"test.txt\", \"r\")\n",
    "        f.write(\"This is my first file\")\n",
    "    except:\n",
    "        print(\"There is an issue\")\n",
    "\n",
    "except IOError as e:\n",
    "    print(e)\n",
    "except ZeroDivisionError as e:\n",
    "    print(\"awsdf\",e)\n",
    "except Exception as e:\n",
    "    print(\"This is my except with Exception:\", e)\n",
    "#line no 9 is executed"
   ]
  },
  {
   "cell_type": "code",
   "execution_count": 11,
   "id": "c259da9b",
   "metadata": {},
   "outputs": [
    {
     "name": "stdout",
     "output_type": "stream",
     "text": [
      "There is an issue\n",
      "This will be executed after a successful execution of try\n"
     ]
    }
   ],
   "source": [
    "#else statement will be executed after successful execution of try statement\n",
    "try:\n",
    "    a = 10/3\n",
    "    try:\n",
    "        f = open(\"test.txt\", \"r\")\n",
    "        f.write(\"This is my first file\")\n",
    "    except:\n",
    "        print(\"There is an issue\")\n",
    "    else:\n",
    "        print(\"This will be executed once internal try executes successfully\")\n",
    "\n",
    "except IOError as e:\n",
    "    print(e)\n",
    "except ZeroDivisionError as e:\n",
    "    print(\"awsdf\",e)\n",
    "except Exception as e:\n",
    "    print(\"This is my except with Exception:\", e)\n",
    "else:\n",
    "    print(\"This will be executed after a successful execution of try\")"
   ]
  },
  {
   "cell_type": "code",
   "execution_count": 12,
   "id": "0e674f24",
   "metadata": {},
   "outputs": [
    {
     "name": "stdout",
     "output_type": "stream",
     "text": [
      "123\n",
      "1.835820895522388\n"
     ]
    }
   ],
   "source": [
    "try:\n",
    "    a = int(input())\n",
    "    print(a/67)\n",
    "except:\n",
    "    print(\"This is my error message\")"
   ]
  },
  {
   "cell_type": "code",
   "execution_count": 14,
   "id": "927f2012",
   "metadata": {},
   "outputs": [
    {
     "name": "stdout",
     "output_type": "stream",
     "text": [
      "dste\n",
      "This is my error message\n"
     ]
    }
   ],
   "source": [
    "try:\n",
    "    a = int(input())\n",
    "    print(a/67)\n",
    "except:\n",
    "    print(\"This is my error message\")\n",
    "#cannot convert string to int"
   ]
  },
  {
   "cell_type": "code",
   "execution_count": 4,
   "id": "da7cc56b",
   "metadata": {},
   "outputs": [
    {
     "name": "stdout",
     "output_type": "stream",
     "text": [
      "ghdsfk\n",
      "This is my error message\n"
     ]
    }
   ],
   "source": [
    " try:\n",
    "    a = int(input())\n",
    "    print(a/67)\n",
    "except:\n",
    "    print(\"This is my error message\")\n",
    "else:\n",
    "    print(\"On successful execution of your try block\")"
   ]
  },
  {
   "cell_type": "code",
   "execution_count": 5,
   "id": "321ba8ff",
   "metadata": {},
   "outputs": [
    {
     "name": "stdout",
     "output_type": "stream",
     "text": [
      "1234\n",
      "18.417910447761194\n",
      "On successful execution of your try block\n"
     ]
    }
   ],
   "source": [
    " try:\n",
    "    a = int(input())\n",
    "    print(a/67)\n",
    "except:\n",
    "    print(\"This is my error message\")\n",
    "else:\n",
    "    print(\"On successful execution of your try block\")"
   ]
  },
  {
   "cell_type": "code",
   "execution_count": 6,
   "id": "6f038350",
   "metadata": {},
   "outputs": [
    {
     "name": "stdout",
     "output_type": "stream",
     "text": [
      "sad\n",
      "This is my error message\n",
      "It will execute always\n"
     ]
    }
   ],
   "source": [
    "try:\n",
    "    a = int(input())\n",
    "    print(a/67)\n",
    "except:\n",
    "    print(\"This is my error message\")\n",
    "else:\n",
    "    print(\"On successful execution of your try block\")\n",
    "finally:\n",
    "    print(\"It will execute always\")"
   ]
  },
  {
   "cell_type": "code",
   "execution_count": 7,
   "id": "39ed1e12",
   "metadata": {},
   "outputs": [
    {
     "name": "stdout",
     "output_type": "stream",
     "text": [
      "1234\n",
      "18.417910447761194\n",
      "On successful execution of your try block\n",
      "It will execute always\n"
     ]
    }
   ],
   "source": [
    "#Finally is a block which will execute always\n",
    "#else will execute on successful execution of try block\n",
    "\n",
    "try:\n",
    "    a = int(input())\n",
    "    print(a/67)\n",
    "except:\n",
    "    print(\"This is my error message\")\n",
    "else:\n",
    "    print(\"On successful execution of your try block\")\n",
    "finally:\n",
    "    print(\"It will execute always\")"
   ]
  },
  {
   "cell_type": "code",
   "execution_count": 8,
   "id": "e0d7d3f3",
   "metadata": {},
   "outputs": [],
   "source": [
    "##function"
   ]
  },
  {
   "cell_type": "code",
   "execution_count": 9,
   "id": "df62ee27",
   "metadata": {},
   "outputs": [],
   "source": [
    "def askint():\n",
    "    try:\n",
    "        val = int(input(\"Try to input integer\"))\n",
    "    except Exception as e:\n",
    "        print(e)\n",
    "    finally:\n",
    "        print(\"This will execute by default\")"
   ]
  },
  {
   "cell_type": "code",
   "execution_count": 10,
   "id": "7cadc783",
   "metadata": {},
   "outputs": [
    {
     "name": "stdout",
     "output_type": "stream",
     "text": [
      "Try to input integerasdfsf\n",
      "invalid literal for int() with base 10: 'asdfsf'\n",
      "This will execute by default\n"
     ]
    }
   ],
   "source": [
    "askint()"
   ]
  },
  {
   "cell_type": "code",
   "execution_count": 11,
   "id": "02a143be",
   "metadata": {},
   "outputs": [
    {
     "name": "stdout",
     "output_type": "stream",
     "text": [
      "Try to input integer1234\n",
      "This will execute by default\n"
     ]
    }
   ],
   "source": [
    "askint()"
   ]
  },
  {
   "cell_type": "code",
   "execution_count": 12,
   "id": "6bdc4368",
   "metadata": {},
   "outputs": [],
   "source": [
    "#write a fn so that user has to enter integer if he doesnt enter then again ask for an input"
   ]
  },
  {
   "cell_type": "code",
   "execution_count": 15,
   "id": "2ce200ff",
   "metadata": {},
   "outputs": [],
   "source": [
    "def askint1():\n",
    "    try:\n",
    "        var = int(input(\"Enter an integer\"))\n",
    "    except Exception as e:\n",
    "        print(e)\n",
    "        print(\"You have not entered intered. Please try again\")\n",
    "        askint1()"
   ]
  },
  {
   "cell_type": "code",
   "execution_count": 17,
   "id": "fbce27cb",
   "metadata": {},
   "outputs": [
    {
     "name": "stdout",
     "output_type": "stream",
     "text": [
      "Enter an integer123\n"
     ]
    }
   ],
   "source": [
    "askint1()"
   ]
  },
  {
   "cell_type": "code",
   "execution_count": 18,
   "id": "4b9889a1",
   "metadata": {},
   "outputs": [],
   "source": [
    "def askint1():\n",
    "    try:\n",
    "        var = int(input(\"Enter an integer\"))\n",
    "        if type(val) != int:\n",
    "            askint1()\n",
    "    except Exception as e:\n",
    "        print(e)\n",
    "#         print(\"You have not entered intered. Please try again\")\n",
    "#         askint1()"
   ]
  },
  {
   "cell_type": "code",
   "execution_count": 19,
   "id": "2696cac9",
   "metadata": {},
   "outputs": [
    {
     "name": "stdout",
     "output_type": "stream",
     "text": [
      "Enter an integerasd\n",
      "invalid literal for int() with base 10: 'asd'\n"
     ]
    }
   ],
   "source": [
    "askint1()"
   ]
  },
  {
   "cell_type": "code",
   "execution_count": null,
   "id": "fe68e8bf",
   "metadata": {},
   "outputs": [],
   "source": []
  },
  {
   "cell_type": "code",
   "execution_count": null,
   "id": "e622533d",
   "metadata": {},
   "outputs": [],
   "source": []
  }
 ],
 "metadata": {
  "kernelspec": {
   "display_name": "Python 3",
   "language": "python",
   "name": "python3"
  },
  "language_info": {
   "codemirror_mode": {
    "name": "ipython",
    "version": 3
   },
   "file_extension": ".py",
   "mimetype": "text/x-python",
   "name": "python",
   "nbconvert_exporter": "python",
   "pygments_lexer": "ipython3",
   "version": "3.8.8"
  }
 },
 "nbformat": 4,
 "nbformat_minor": 5
}
