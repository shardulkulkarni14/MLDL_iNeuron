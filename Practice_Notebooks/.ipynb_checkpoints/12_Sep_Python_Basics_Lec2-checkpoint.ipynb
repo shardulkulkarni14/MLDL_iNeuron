{
 "cells": [
  {
   "cell_type": "code",
   "execution_count": 1,
   "id": "ee54ec63",
   "metadata": {},
   "outputs": [],
   "source": [
    "#control flow statemnets"
   ]
  },
  {
   "cell_type": "code",
   "execution_count": null,
   "id": "5d2aee6c",
   "metadata": {},
   "outputs": [],
   "source": [
    "#IF - else"
   ]
  },
  {
   "cell_type": "code",
   "execution_count": 8,
   "id": "7285cefb",
   "metadata": {},
   "outputs": [
    {
     "name": "stdout",
     "output_type": "stream",
     "text": [
      "this is value of a 10\n"
     ]
    }
   ],
   "source": [
    "a = 10\n",
    "if a:\n",
    "    print(\"this is value of a\", a)"
   ]
  },
  {
   "cell_type": "code",
   "execution_count": 9,
   "id": "55c048f9",
   "metadata": {},
   "outputs": [
    {
     "name": "stdout",
     "output_type": "stream",
     "text": [
      "value of a 10\n"
     ]
    }
   ],
   "source": [
    "if a<20:\n",
    "    print(\"value of a\", a)\n",
    "else:\n",
    "    print(\"invalid\")"
   ]
  },
  {
   "cell_type": "code",
   "execution_count": 11,
   "id": "61600a3d",
   "metadata": {},
   "outputs": [],
   "source": [
    "if a < 20:\n",
    "    pass #if you do not want to write any statement in if condition then you can use this predefined keyword pass, it simply skips the condition"
   ]
  },
  {
   "cell_type": "code",
   "execution_count": 2,
   "id": "2f9c5367",
   "metadata": {},
   "outputs": [
    {
     "name": "stdout",
     "output_type": "stream",
     "text": [
      "my number\n"
     ]
    }
   ],
   "source": [
    "a = 10\n",
    "if a > 20:\n",
    "    print(\"my number\")\n",
    "else:\n",
    "    print(\"value of a:\", a)"
   ]
  },
  {
   "cell_type": "code",
   "execution_count": 19,
   "id": "420a2f1e",
   "metadata": {},
   "outputs": [
    {
     "name": "stdout",
     "output_type": "stream",
     "text": [
      "hey\n"
     ]
    }
   ],
   "source": [
    "a = 10\n",
    "if a > 20:\n",
    "    print(\"my number\")\n",
    "elif a < 20:\n",
    "    print(\"hey\")\n",
    "else:\n",
    "    print(\"value of a:\", a)"
   ]
  },
  {
   "cell_type": "code",
   "execution_count": 20,
   "id": "a5da94a7",
   "metadata": {},
   "outputs": [
    {
     "name": "stdout",
     "output_type": "stream",
     "text": [
      "i am checking type of var\n"
     ]
    }
   ],
   "source": [
    "a = 10\n",
    "if a == 30:\n",
    "    print(\"this is my number\")\n",
    "elif type(a) == int:\n",
    "    print(\"i am checking type of var\")\n",
    "elif a < 20:\n",
    "    print(\"print from elif\")\n",
    "else:\n",
    "    print(\"print this statement\")"
   ]
  },
  {
   "cell_type": "code",
   "execution_count": 24,
   "id": "0d975dee",
   "metadata": {},
   "outputs": [
    {
     "name": "stdout",
     "output_type": "stream",
     "text": [
      "Enter discount value:5\n",
      "there is no item available\n"
     ]
    }
   ],
   "source": [
    "#simple shopping example\n",
    "Discount = int(input(\"Enter discount value:\"))\n",
    "if Discount == 50:\n",
    "    print(\"you can buy all the itmes listed in row 1\")\n",
    "elif Discount == 30:\n",
    "    print(\"You can buy all the items from row number 2\")\n",
    "elif Discount == 20:\n",
    "    print(\"send user to row 3\")\n",
    "elif Discount > 10:\n",
    "    print(\"send user to row 4\")\n",
    "else:\n",
    "    print(\"there is no item available\")\n",
    "    \n",
    "#nested if can also be implemented"
   ]
  },
  {
   "cell_type": "code",
   "execution_count": 25,
   "id": "c0e93d07",
   "metadata": {},
   "outputs": [],
   "source": [
    "#for loop"
   ]
  },
  {
   "cell_type": "code",
   "execution_count": 27,
   "id": "a004ec02",
   "metadata": {},
   "outputs": [
    {
     "data": {
      "text/plain": [
       "[2, 3, 4, 5, 6, 7, 8, 9, 1, 2, 3]"
      ]
     },
     "execution_count": 27,
     "metadata": {},
     "output_type": "execute_result"
    }
   ],
   "source": [
    "l = [2,3,4,5,6,7,8,9,1,2,3]\n",
    "l"
   ]
  },
  {
   "cell_type": "code",
   "execution_count": 31,
   "id": "a5e5ff15",
   "metadata": {},
   "outputs": [
    {
     "name": "stdout",
     "output_type": "stream",
     "text": [
      "2\n",
      "3\n",
      "4\n",
      "5\n",
      "6\n",
      "7\n",
      "8\n",
      "9\n",
      "1\n",
      "2\n",
      "3\n"
     ]
    }
   ],
   "source": [
    "for i in l:\n",
    "    print(i)"
   ]
  },
  {
   "cell_type": "code",
   "execution_count": 32,
   "id": "2aa63a7a",
   "metadata": {},
   "outputs": [],
   "source": [
    "l = [\"sudh\", [1,2,3,4], (2,3,4,5,6), 56, 67, 6+7j, True, 45, 67]"
   ]
  },
  {
   "cell_type": "code",
   "execution_count": 33,
   "id": "691705aa",
   "metadata": {},
   "outputs": [
    {
     "name": "stdout",
     "output_type": "stream",
     "text": [
      "sudh\n",
      "[1, 2, 3, 4]\n",
      "(2, 3, 4, 5, 6)\n",
      "56\n",
      "67\n",
      "(6+7j)\n",
      "True\n",
      "45\n",
      "67\n"
     ]
    }
   ],
   "source": [
    "for i in l:\n",
    "    print(i)"
   ]
  },
  {
   "cell_type": "code",
   "execution_count": 35,
   "id": "9ae767bf",
   "metadata": {},
   "outputs": [
    {
     "name": "stdout",
     "output_type": "stream",
     "text": [
      "sudh\n"
     ]
    }
   ],
   "source": [
    "#if we wqant to extract only strings\n",
    "for i in l:\n",
    "    if (type(i) == str):\n",
    "        print(i)"
   ]
  },
  {
   "cell_type": "code",
   "execution_count": 37,
   "id": "0786050b",
   "metadata": {},
   "outputs": [
    {
     "name": "stdout",
     "output_type": "stream",
     "text": [
      "3\n"
     ]
    }
   ],
   "source": [
    "#if there is list, access the 2nd element\n",
    "for i in l:\n",
    "    if(type(i) == list):\n",
    "        print(i[2])"
   ]
  },
  {
   "cell_type": "code",
   "execution_count": 38,
   "id": "eae8bf8a",
   "metadata": {},
   "outputs": [
    {
     "name": "stdout",
     "output_type": "stream",
     "text": [
      "[4, 3, 2, 1]\n"
     ]
    }
   ],
   "source": [
    "#print the list ion reverse order\n",
    "for i in l:\n",
    "    if(type(i) == list):\n",
    "        print(i[::-1])"
   ]
  },
  {
   "cell_type": "code",
   "execution_count": 41,
   "id": "84acdb51",
   "metadata": {},
   "outputs": [
    {
     "name": "stdout",
     "output_type": "stream",
     "text": [
      "s\n",
      "h\n",
      "a\n",
      "r\n",
      "d\n",
      "u\n",
      "l\n",
      " \n",
      "k\n",
      "u\n",
      "l\n",
      "k\n",
      "a\n",
      "r\n",
      "n\n",
      "i\n"
     ]
    }
   ],
   "source": [
    "s = \"shardul kulkarni\"\n",
    "for i in s:\n",
    "    print(i)"
   ]
  },
  {
   "cell_type": "code",
   "execution_count": 43,
   "id": "1f5ad20e",
   "metadata": {},
   "outputs": [
    {
     "name": "stdout",
     "output_type": "stream",
     "text": [
      "3\n",
      "4\n",
      "5\n",
      "6\n"
     ]
    }
   ],
   "source": [
    "t = (3,4,5,6)\n",
    "for i in t:\n",
    "    print(i)"
   ]
  },
  {
   "cell_type": "code",
   "execution_count": 47,
   "id": "96ba0ccf",
   "metadata": {},
   "outputs": [
    {
     "name": "stdout",
     "output_type": "stream",
     "text": [
      "[0, 1, 2, 3, 4, 5, 6, 7, 8, 9]\n",
      "(0, 1, 2, 3, 4, 5, 6, 7, 8, 9)\n"
     ]
    }
   ],
   "source": [
    "print(list(range(10)))\n",
    "print(tuple(range(10)))"
   ]
  },
  {
   "cell_type": "code",
   "execution_count": 46,
   "id": "8a4b5b85",
   "metadata": {},
   "outputs": [
    {
     "name": "stdout",
     "output_type": "stream",
     "text": [
      "0\n",
      "1\n",
      "2\n",
      "3\n",
      "4\n",
      "5\n",
      "6\n",
      "7\n",
      "8\n",
      "9\n"
     ]
    }
   ],
   "source": [
    "for i in range(10):\n",
    "    print(i)"
   ]
  },
  {
   "cell_type": "code",
   "execution_count": 52,
   "id": "663a2d46",
   "metadata": {},
   "outputs": [
    {
     "name": "stdout",
     "output_type": "stream",
     "text": [
      "[1, 2, 3, 4]\n",
      "(2, 3, 4, 5, 6)\n"
     ]
    }
   ],
   "source": [
    "for i in l:\n",
    "    if(type(i) == list or type(i) == tuple):\n",
    "        print(i)"
   ]
  },
  {
   "cell_type": "code",
   "execution_count": 55,
   "id": "e958bbf9",
   "metadata": {},
   "outputs": [
    {
     "name": "stdout",
     "output_type": "stream",
     "text": [
      "[1, 2, 3, 4]\n",
      "1\n",
      "2\n",
      "3\n",
      "4\n",
      "(1, 2, 3, 4, 5)\n",
      "1\n",
      "2\n",
      "3\n",
      "4\n",
      "5\n"
     ]
    }
   ],
   "source": [
    "#nested for\n",
    "li = [[1,2,3,4], \"John\", (1,2,3,4,5), 445, 44.8, 3+7j, True, \"Smith\"]\n",
    "for i in li:\n",
    "    if type(i) == list or type(i) == tuple:\n",
    "        print(i)\n",
    "        for n in i:\n",
    "            print(n)"
   ]
  },
  {
   "cell_type": "code",
   "execution_count": 67,
   "id": "ebbaed67",
   "metadata": {},
   "outputs": [
    {
     "name": "stdout",
     "output_type": "stream",
     "text": [
      "10\n",
      "* \n",
      "* * \n",
      "* * * \n",
      "* * * * \n",
      "* * * * * \n",
      "* * * * * * \n",
      "* * * * * * * \n",
      "* * * * * * * * \n",
      "* * * * * * * * * \n",
      "* * * * * * * * * * \n"
     ]
    }
   ],
   "source": [
    "#print a pyramid structure\n",
    "\n",
    "n = int(input())\n",
    "for i in range(n):\n",
    "    for j in range(i+1):\n",
    "        print(\"*\", end = \" \")\n",
    "    print(\"\")"
   ]
  },
  {
   "cell_type": "code",
   "execution_count": 73,
   "id": "ba47f55e",
   "metadata": {},
   "outputs": [
    {
     "name": "stdout",
     "output_type": "stream",
     "text": [
      "******"
     ]
    }
   ],
   "source": [
    "n = 3\n",
    "for i in range(n):\n",
    "    for j in range(i+1):\n",
    "        print(\"*\", end = \"\")\n",
    "#     print(\" \")"
   ]
  },
  {
   "cell_type": "code",
   "execution_count": 11,
   "id": "77df0ad4",
   "metadata": {},
   "outputs": [
    {
     "name": "stdout",
     "output_type": "stream",
     "text": [
      "* \n",
      "** \n",
      "*** \n",
      "** \n",
      "* \n",
      " \n"
     ]
    }
   ],
   "source": [
    "n = 3\n",
    "for i in range(n):\n",
    "    for j in range(i+1):\n",
    "        print(\"*\", end = \"\")\n",
    "    print(\" \")\n",
    "for i in range(n):\n",
    "    for j in range(n-i-1):\n",
    "        print(\"*\", end = \"\")\n",
    "    print(\" \")"
   ]
  },
  {
   "cell_type": "code",
   "execution_count": 3,
   "id": "2aa1b19f",
   "metadata": {},
   "outputs": [
    {
     "name": "stdout",
     "output_type": "stream",
     "text": [
      "The count of 1 in [1, 1, 2, 2, 3, 3] is 2\n",
      "The count of 2 in [1, 1, 2, 2, 3, 3] is 2\n",
      "The count of 3 in [1, 1, 2, 2, 3, 3] is 2\n",
      "The count of 2 in [2, 4, 2, 2, 5] is 3\n",
      "The count of 8 in [1, 5, 8, 8, 2] is 2\n"
     ]
    }
   ],
   "source": [
    "l = [[1,1,2,2,3,3],[2,4,2,2,5],[1,5,8,8,2]]\n",
    "x = []\n",
    "for i in l:\n",
    "    if type(i) == list:\n",
    "        for j in i:\n",
    "            if j not in x:\n",
    "                x.append(j)\n",
    "                if i.count(j)!=1:\n",
    "                    print(\"The count of\", j,\"in\",i, \"is\", i.count(j))\n",
    "            else:\n",
    "                x.append(j)\n",
    "        x.clear()"
   ]
  },
  {
   "cell_type": "code",
   "execution_count": 89,
   "id": "09f2173f",
   "metadata": {},
   "outputs": [
    {
     "data": {
      "text/plain": [
       "'rahs'"
      ]
     },
     "execution_count": 89,
     "metadata": {},
     "output_type": "execute_result"
    }
   ],
   "source": [
    "s = \"shar\"\n",
    "s[::-1]"
   ]
  },
  {
   "cell_type": "code",
   "execution_count": 12,
   "id": "ae582fcf",
   "metadata": {},
   "outputs": [
    {
     "name": "stdout",
     "output_type": "stream",
     "text": [
      "  * \n",
      " * * \n",
      "* * * \n",
      " * * \n",
      "  * \n"
     ]
    }
   ],
   "source": [
    "n = 3\n",
    "for i in range(1,n+1):\n",
    "    print(\" \"*(n-i)+\"* \"*i)\n",
    "for i in range(n-1, 0, -1):\n",
    "    print(\" \"*(n-i)+\"* \"*i)"
   ]
  },
  {
   "cell_type": "code",
   "execution_count": null,
   "id": "4609b0e9",
   "metadata": {},
   "outputs": [],
   "source": []
  }
 ],
 "metadata": {
  "kernelspec": {
   "display_name": "Python 3",
   "language": "python",
   "name": "python3"
  },
  "language_info": {
   "codemirror_mode": {
    "name": "ipython",
    "version": 3
   },
   "file_extension": ".py",
   "mimetype": "text/x-python",
   "name": "python",
   "nbconvert_exporter": "python",
   "pygments_lexer": "ipython3",
   "version": "3.8.8"
  }
 },
 "nbformat": 4,
 "nbformat_minor": 5
}
